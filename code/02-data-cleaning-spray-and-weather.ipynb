{
 "cells": [
  {
   "cell_type": "markdown",
   "metadata": {},
   "source": [
    "# Data Cleaning - Spray and Weather Dataset\n",
    "\n",
    "In this notebook, we perform data cleaning on the spray and weather dataset. We also perform preliminary analysis on the data and perform some feature engineering based on our review. \n",
    "\n",
    "Contents:\n",
    "- [Spray Dataset](#Spray-Dataset)\n",
    "  - [Imports](#Import-libraries-and-data)\n",
    "  - [Apply grid over map of spray locations](#Create-a-grid-over-map-of-spray-location)\n",
    "  - [Deal with null values](#Deal-with-null-values-in-spray)\n",
    "  - [Save cleaned spray dataset](#Save-cleaned-spray-data)\n",
    "- [Weather Dataset](#Weather-Dataset)\n",
    "  - [Read data](#Read-data)\n",
    "  - [Data formatting](#Data-formatting)\n",
    "  - [Deal with null values in weather](#Deal-with-null-values-in-weather)\n",
    "  - [Station reference](#Station-reference)\n",
    "  - [Feature Engineering](#Feature-engineering)\n",
    "  - [Save cleaned weather dataset](#Save-cleaned-weather-data)"
   ]
  },
  {
   "cell_type": "markdown",
   "metadata": {},
   "source": [
    "### <u>Spray Dataset</u>\n",
    "### Import libraries and data"
   ]
  },
  {
   "cell_type": "code",
   "execution_count": 1,
   "metadata": {},
   "outputs": [],
   "source": [
    "import pandas as pd\n",
    "import numpy as np\n",
    "import matplotlib.pyplot as plt\n",
    "plt.style.use('fivethirtyeight')\n",
    "import datetime\n",
    "import seaborn as sns\n",
    "sns.set_style('whitegrid')\n",
    "from pandas_profiling import ProfileReport\n",
    "import warnings\n",
    "warnings.filterwarnings('ignore')"
   ]
  },
  {
   "cell_type": "code",
   "execution_count": 2,
   "metadata": {},
   "outputs": [
    {
     "data": {
      "text/html": [
       "<div>\n",
       "<style scoped>\n",
       "    .dataframe tbody tr th:only-of-type {\n",
       "        vertical-align: middle;\n",
       "    }\n",
       "\n",
       "    .dataframe tbody tr th {\n",
       "        vertical-align: top;\n",
       "    }\n",
       "\n",
       "    .dataframe thead th {\n",
       "        text-align: right;\n",
       "    }\n",
       "</style>\n",
       "<table border=\"1\" class=\"dataframe\">\n",
       "  <thead>\n",
       "    <tr style=\"text-align: right;\">\n",
       "      <th></th>\n",
       "      <th>Date</th>\n",
       "      <th>Time</th>\n",
       "      <th>Latitude</th>\n",
       "      <th>Longitude</th>\n",
       "    </tr>\n",
       "  </thead>\n",
       "  <tbody>\n",
       "    <tr>\n",
       "      <th>0</th>\n",
       "      <td>2011-08-29</td>\n",
       "      <td>6:56:58 PM</td>\n",
       "      <td>42.391623</td>\n",
       "      <td>-88.089163</td>\n",
       "    </tr>\n",
       "    <tr>\n",
       "      <th>1</th>\n",
       "      <td>2011-08-29</td>\n",
       "      <td>6:57:08 PM</td>\n",
       "      <td>42.391348</td>\n",
       "      <td>-88.089163</td>\n",
       "    </tr>\n",
       "    <tr>\n",
       "      <th>2</th>\n",
       "      <td>2011-08-29</td>\n",
       "      <td>6:57:18 PM</td>\n",
       "      <td>42.391022</td>\n",
       "      <td>-88.089157</td>\n",
       "    </tr>\n",
       "    <tr>\n",
       "      <th>3</th>\n",
       "      <td>2011-08-29</td>\n",
       "      <td>6:57:28 PM</td>\n",
       "      <td>42.390637</td>\n",
       "      <td>-88.089158</td>\n",
       "    </tr>\n",
       "    <tr>\n",
       "      <th>4</th>\n",
       "      <td>2011-08-29</td>\n",
       "      <td>6:57:38 PM</td>\n",
       "      <td>42.390410</td>\n",
       "      <td>-88.088858</td>\n",
       "    </tr>\n",
       "    <tr>\n",
       "      <th>5</th>\n",
       "      <td>2011-08-29</td>\n",
       "      <td>6:57:48 PM</td>\n",
       "      <td>42.390395</td>\n",
       "      <td>-88.088315</td>\n",
       "    </tr>\n",
       "    <tr>\n",
       "      <th>6</th>\n",
       "      <td>2011-08-29</td>\n",
       "      <td>6:57:58 PM</td>\n",
       "      <td>42.390673</td>\n",
       "      <td>-88.088002</td>\n",
       "    </tr>\n",
       "    <tr>\n",
       "      <th>7</th>\n",
       "      <td>2011-08-29</td>\n",
       "      <td>6:58:08 PM</td>\n",
       "      <td>42.391027</td>\n",
       "      <td>-88.088002</td>\n",
       "    </tr>\n",
       "    <tr>\n",
       "      <th>8</th>\n",
       "      <td>2011-08-29</td>\n",
       "      <td>6:58:18 PM</td>\n",
       "      <td>42.391403</td>\n",
       "      <td>-88.088003</td>\n",
       "    </tr>\n",
       "    <tr>\n",
       "      <th>9</th>\n",
       "      <td>2011-08-29</td>\n",
       "      <td>6:58:28 PM</td>\n",
       "      <td>42.391718</td>\n",
       "      <td>-88.087995</td>\n",
       "    </tr>\n",
       "  </tbody>\n",
       "</table>\n",
       "</div>"
      ],
      "text/plain": [
       "         Date        Time   Latitude  Longitude\n",
       "0  2011-08-29  6:56:58 PM  42.391623 -88.089163\n",
       "1  2011-08-29  6:57:08 PM  42.391348 -88.089163\n",
       "2  2011-08-29  6:57:18 PM  42.391022 -88.089157\n",
       "3  2011-08-29  6:57:28 PM  42.390637 -88.089158\n",
       "4  2011-08-29  6:57:38 PM  42.390410 -88.088858\n",
       "5  2011-08-29  6:57:48 PM  42.390395 -88.088315\n",
       "6  2011-08-29  6:57:58 PM  42.390673 -88.088002\n",
       "7  2011-08-29  6:58:08 PM  42.391027 -88.088002\n",
       "8  2011-08-29  6:58:18 PM  42.391403 -88.088003\n",
       "9  2011-08-29  6:58:28 PM  42.391718 -88.087995"
      ]
     },
     "metadata": {},
     "output_type": "display_data"
    },
    {
     "name": "stdout",
     "output_type": "stream",
     "text": [
      "Shape of spray set:  (14835, 4)\n"
     ]
    }
   ],
   "source": [
    "# read spray csv file and preview\n",
    "spray = pd.read_csv(\"../data/raw/spray.csv\")\n",
    "display(spray.head(10))\n",
    "print(\"Shape of spray set: \", spray.shape)"
   ]
  },
  {
   "cell_type": "code",
   "execution_count": 3,
   "metadata": {},
   "outputs": [
    {
     "data": {
      "text/plain": [
       "Date\n",
       "2011-08-29      95\n",
       "2011-09-07    2114\n",
       "2013-07-17    2202\n",
       "2013-07-25    1607\n",
       "2013-08-08    1195\n",
       "2013-08-15    2668\n",
       "2013-08-16     141\n",
       "2013-08-22    1587\n",
       "2013-08-29    2302\n",
       "2013-09-05     924\n",
       "Name: Date, dtype: int64"
      ]
     },
     "execution_count": 3,
     "metadata": {},
     "output_type": "execute_result"
    }
   ],
   "source": [
    "spray.groupby('Date')['Date'].count()"
   ]
  },
  {
   "cell_type": "markdown",
   "metadata": {},
   "source": [
    "Spraying efforts were made only on 10 days in 2011 and 2013."
   ]
  },
  {
   "cell_type": "markdown",
   "metadata": {},
   "source": [
    "### Create a grid over map of spray location\n",
    "We create a grid over the map to identify grids where spraying efforts were made. Then create a column for grid number for the respective spraying locations."
   ]
  },
  {
   "cell_type": "code",
   "execution_count": 4,
   "metadata": {},
   "outputs": [
    {
     "data": {
      "text/plain": [
       "{'long_max': -87.58672666666669,\n",
       " 'long_min': -88.0964683333333,\n",
       " 'lat_max': 42.3959833333333,\n",
       " 'lat_min': 41.713925}"
      ]
     },
     "execution_count": 4,
     "metadata": {},
     "output_type": "execute_result"
    }
   ],
   "source": [
    "# find the maximum and minimum latitude and longitude of spray locations\n",
    "coord_stats3={}\n",
    "coord_stats3[\"long_max\"] = spray['Longitude'].max()\n",
    "coord_stats3[\"long_min\"] = spray['Longitude'].min()\n",
    "coord_stats3[\"lat_max\"] = spray['Latitude'].max()\n",
    "coord_stats3[\"lat_min\"] = spray['Latitude'].min()\n",
    "coord_stats3"
   ]
  },
  {
   "cell_type": "code",
   "execution_count": 5,
   "metadata": {},
   "outputs": [],
   "source": [
    "# From train and test sets, get the maximum and minimum coordinates where \n",
    "coord_stats1 = {'long_max': -87.531635,\n",
    " 'long_min': -87.930995,\n",
    " 'lat_max': 42.01743,\n",
    " 'lat_min': 41.644612}"
   ]
  },
  {
   "cell_type": "code",
   "execution_count": 6,
   "metadata": {},
   "outputs": [],
   "source": [
    "# function gets the max and min coordinates based on both spray and testing locations\n",
    "def calculate_coords(a, b):\n",
    "    stats = {}\n",
    "    stats[\"long_max\"] = max(a[\"long_max\"], b[\"long_max\"])\n",
    "    stats[\"long_min\"] = min(a[\"long_min\"], b[\"long_min\"])\n",
    "    stats[\"lat_max\"] = max(a[\"lat_max\"], b[\"lat_max\"])\n",
    "    stats[\"lat_min\"] = min(a[\"lat_min\"], b[\"lat_min\"])\n",
    "    long_range = stats[\"long_max\"] - stats[\"long_min\"]\n",
    "    lat_range = stats[\"lat_max\"] - stats[\"lat_min\"]\n",
    "    stats[\"long_max\"] += long_range*0.01\n",
    "    stats[\"long_min\"] -= long_range*0.01\n",
    "    stats[\"lat_max\"] += lat_range*0.01\n",
    "    stats[\"lat_min\"] -= lat_range*0.01    \n",
    "    \n",
    "    return stats"
   ]
  },
  {
   "cell_type": "code",
   "execution_count": 7,
   "metadata": {},
   "outputs": [
    {
     "data": {
      "text/plain": [
       "{'long_max': -87.52598666666667,\n",
       " 'long_min': -88.10211666666663,\n",
       " 'lat_max': 42.40349704666663,\n",
       " 'lat_min': 41.63709828666667}"
      ]
     },
     "execution_count": 7,
     "metadata": {},
     "output_type": "execute_result"
    }
   ],
   "source": [
    "# compute \n",
    "stats = calculate_coords(coord_stats1, coord_stats3)\n",
    "stats"
   ]
  },
  {
   "cell_type": "code",
   "execution_count": 8,
   "metadata": {},
   "outputs": [],
   "source": [
    "# function to assign a grid number to a particular coordinate based on the range of max/min coordinates\n",
    "\n",
    "# inputs: long, lat of a particular coordinate\n",
    "# stats: range of max/min long, lat of an area, in form of dictionary long_max, long_min, lat_max, lat_min\n",
    "# default: 10x10 grid\n",
    "# most south western grid is 0, most north eastern grid is 99\n",
    "\n",
    "def calculate_grid(long, lat, stats):\n",
    "    row_total = 10\n",
    "    column_total = 10\n",
    "    stats = stats\n",
    "    long_range = stats[\"long_max\"] - stats[\"long_min\"]\n",
    "    lat_range = stats[\"lat_max\"] - stats[\"lat_min\"]\n",
    "    row_no = (lat - stats[\"lat_min\"])//(lat_range/row_total)\n",
    "    column_no = (long - stats[\"long_min\"])//(long_range/column_total)\n",
    "    grid_no = row_no * column_total + column_no\n",
    "    \n",
    "    # error - returns 999\n",
    "    if ((abs(row_no) > 9) or (abs(column_no) > 9)):\n",
    "        grid_no = 999\n",
    "    \n",
    "    return grid_no"
   ]
  },
  {
   "cell_type": "markdown",
   "metadata": {},
   "source": [
    "Check extremes of function."
   ]
  },
  {
   "cell_type": "code",
   "execution_count": 9,
   "metadata": {},
   "outputs": [
    {
     "data": {
      "text/plain": [
       "0.0"
      ]
     },
     "execution_count": 9,
     "metadata": {},
     "output_type": "execute_result"
    }
   ],
   "source": [
    "# Testing case of grid 0\n",
    "long = -88.05\n",
    "lat = 41.64\n",
    "stats = {'long_max': -87.52598666666667,\n",
    " 'long_min': -88.10211666666663,\n",
    " 'lat_max': 42.40349704666663,\n",
    " 'lat_min': 41.63709828666667}\n",
    "\n",
    "calculate_grid(long, lat, stats)"
   ]
  },
  {
   "cell_type": "code",
   "execution_count": 10,
   "metadata": {},
   "outputs": [
    {
     "data": {
      "text/plain": [
       "999"
      ]
     },
     "execution_count": 10,
     "metadata": {},
     "output_type": "execute_result"
    }
   ],
   "source": [
    "# Testing case of grid 999\n",
    "long = -100\n",
    "lat = 41.64\n",
    "stats = {'long_max': -87.52598666666667,\n",
    " 'long_min': -88.10211666666663,\n",
    " 'lat_max': 42.40349704666663,\n",
    " 'lat_min': 41.63709828666667}\n",
    "\n",
    "calculate_grid(long, lat, stats)"
   ]
  },
  {
   "cell_type": "code",
   "execution_count": 11,
   "metadata": {},
   "outputs": [],
   "source": [
    "# create a new column for grid_no\n",
    "grid_no = []\n",
    "stats = {'long_max': -87.52598666666667,\n",
    " 'long_min': -88.10211666666663,\n",
    " 'lat_max': 42.40349704666663,\n",
    " 'lat_min': 41.63709828666667}\n",
    "\n",
    "for i in range(len(spray[[\"Latitude\"]])):\n",
    "    long = spray.loc[i,\"Longitude\"]\n",
    "    lat = spray.loc[i,\"Latitude\"]\n",
    "    spray.loc[i,\"grid_no\"] = calculate_grid(long, lat, stats)"
   ]
  },
  {
   "cell_type": "code",
   "execution_count": 12,
   "metadata": {},
   "outputs": [
    {
     "data": {
      "text/plain": [
       "45.0    3245\n",
       "36.0    1824\n",
       "35.0    1774\n",
       "46.0    1406\n",
       "17.0    1385\n",
       "16.0    1194\n",
       "18.0    1180\n",
       "44.0    1071\n",
       "47.0     999\n",
       "37.0     609\n",
       "90.0      95\n",
       "34.0      53\n",
       "Name: grid_no, dtype: int64"
      ]
     },
     "execution_count": 12,
     "metadata": {},
     "output_type": "execute_result"
    }
   ],
   "source": [
    "spray[\"grid_no\"].value_counts()"
   ]
  },
  {
   "cell_type": "code",
   "execution_count": 13,
   "metadata": {},
   "outputs": [
    {
     "data": {
      "text/html": [
       "<div>\n",
       "<style scoped>\n",
       "    .dataframe tbody tr th:only-of-type {\n",
       "        vertical-align: middle;\n",
       "    }\n",
       "\n",
       "    .dataframe tbody tr th {\n",
       "        vertical-align: top;\n",
       "    }\n",
       "\n",
       "    .dataframe thead th {\n",
       "        text-align: right;\n",
       "    }\n",
       "</style>\n",
       "<table border=\"1\" class=\"dataframe\">\n",
       "  <thead>\n",
       "    <tr style=\"text-align: right;\">\n",
       "      <th></th>\n",
       "      <th>Date</th>\n",
       "      <th>Time</th>\n",
       "      <th>Latitude</th>\n",
       "      <th>Longitude</th>\n",
       "      <th>grid_no</th>\n",
       "    </tr>\n",
       "  </thead>\n",
       "  <tbody>\n",
       "    <tr>\n",
       "      <th>0</th>\n",
       "      <td>2011-08-29</td>\n",
       "      <td>6:56:58 PM</td>\n",
       "      <td>42.391623</td>\n",
       "      <td>-88.089163</td>\n",
       "      <td>90.0</td>\n",
       "    </tr>\n",
       "    <tr>\n",
       "      <th>1</th>\n",
       "      <td>2011-08-29</td>\n",
       "      <td>6:57:08 PM</td>\n",
       "      <td>42.391348</td>\n",
       "      <td>-88.089163</td>\n",
       "      <td>90.0</td>\n",
       "    </tr>\n",
       "    <tr>\n",
       "      <th>2</th>\n",
       "      <td>2011-08-29</td>\n",
       "      <td>6:57:18 PM</td>\n",
       "      <td>42.391022</td>\n",
       "      <td>-88.089157</td>\n",
       "      <td>90.0</td>\n",
       "    </tr>\n",
       "    <tr>\n",
       "      <th>3</th>\n",
       "      <td>2011-08-29</td>\n",
       "      <td>6:57:28 PM</td>\n",
       "      <td>42.390637</td>\n",
       "      <td>-88.089158</td>\n",
       "      <td>90.0</td>\n",
       "    </tr>\n",
       "    <tr>\n",
       "      <th>4</th>\n",
       "      <td>2011-08-29</td>\n",
       "      <td>6:57:38 PM</td>\n",
       "      <td>42.390410</td>\n",
       "      <td>-88.088858</td>\n",
       "      <td>90.0</td>\n",
       "    </tr>\n",
       "  </tbody>\n",
       "</table>\n",
       "</div>"
      ],
      "text/plain": [
       "         Date        Time   Latitude  Longitude  grid_no\n",
       "0  2011-08-29  6:56:58 PM  42.391623 -88.089163     90.0\n",
       "1  2011-08-29  6:57:08 PM  42.391348 -88.089163     90.0\n",
       "2  2011-08-29  6:57:18 PM  42.391022 -88.089157     90.0\n",
       "3  2011-08-29  6:57:28 PM  42.390637 -88.089158     90.0\n",
       "4  2011-08-29  6:57:38 PM  42.390410 -88.088858     90.0"
      ]
     },
     "execution_count": 13,
     "metadata": {},
     "output_type": "execute_result"
    }
   ],
   "source": [
    "spray.head()"
   ]
  },
  {
   "cell_type": "markdown",
   "metadata": {},
   "source": [
    "### Deal with null values in spray"
   ]
  },
  {
   "cell_type": "code",
   "execution_count": 14,
   "metadata": {},
   "outputs": [
    {
     "name": "stdout",
     "output_type": "stream",
     "text": [
      "Date           0\n",
      "Time         584\n",
      "Latitude       0\n",
      "Longitude      0\n",
      "grid_no        0\n",
      "dtype: int64\n",
      "-----------\n",
      "Shape of spray dataset:  (14835, 5)\n"
     ]
    }
   ],
   "source": [
    "print(spray.isnull().sum())\n",
    "print(\"-----------\")\n",
    "print(\"Shape of spray dataset: \", spray.shape)"
   ]
  },
  {
   "cell_type": "markdown",
   "metadata": {},
   "source": [
    "While there are 584 missing values, these form only about 4% of the full dataset. Further, considering that we will merge this dataset with the train and test sets, time is an irrelevant feature since there aren't any time data on the train and test sets. We will drop this column altogether."
   ]
  },
  {
   "cell_type": "code",
   "execution_count": 15,
   "metadata": {},
   "outputs": [],
   "source": [
    "spray.drop(columns =['Time'], inplace = True)"
   ]
  },
  {
   "cell_type": "markdown",
   "metadata": {},
   "source": [
    "### Save cleaned spray data"
   ]
  },
  {
   "cell_type": "code",
   "execution_count": 16,
   "metadata": {},
   "outputs": [],
   "source": [
    "spray.to_csv(\"../data/clean/spray_clean.csv\", index = False)"
   ]
  },
  {
   "cell_type": "markdown",
   "metadata": {},
   "source": [
    "### <u>Weather Dataset</u>\n",
    "\n",
    "Our analysis will be focused based on domain knowledge on breeding of *Culex* mosquitoes. Historical data has shown that when weather gets dry with intermittent rain, it will favour mosquito breeding.  These mosquitoes also prefer to bite at night (SCAL, 2019). Also in a study, increasing temperatures could generally lead to a more rapid proliferation of *Culex* populations (Entomol, 2015)."
   ]
  },
  {
   "cell_type": "markdown",
   "metadata": {},
   "source": [
    "### Read data"
   ]
  },
  {
   "cell_type": "code",
   "execution_count": 17,
   "metadata": {},
   "outputs": [],
   "source": [
    "weather = pd.read_csv(\"../data/raw/weather.csv\")"
   ]
  },
  {
   "cell_type": "code",
   "execution_count": 18,
   "metadata": {},
   "outputs": [
    {
     "data": {
      "text/html": [
       "<div>\n",
       "<style scoped>\n",
       "    .dataframe tbody tr th:only-of-type {\n",
       "        vertical-align: middle;\n",
       "    }\n",
       "\n",
       "    .dataframe tbody tr th {\n",
       "        vertical-align: top;\n",
       "    }\n",
       "\n",
       "    .dataframe thead th {\n",
       "        text-align: right;\n",
       "    }\n",
       "</style>\n",
       "<table border=\"1\" class=\"dataframe\">\n",
       "  <thead>\n",
       "    <tr style=\"text-align: right;\">\n",
       "      <th></th>\n",
       "      <th>Station</th>\n",
       "      <th>Date</th>\n",
       "      <th>Tmax</th>\n",
       "      <th>Tmin</th>\n",
       "      <th>Tavg</th>\n",
       "      <th>Depart</th>\n",
       "      <th>DewPoint</th>\n",
       "      <th>WetBulb</th>\n",
       "      <th>Heat</th>\n",
       "      <th>Cool</th>\n",
       "      <th>...</th>\n",
       "      <th>CodeSum</th>\n",
       "      <th>Depth</th>\n",
       "      <th>Water1</th>\n",
       "      <th>SnowFall</th>\n",
       "      <th>PrecipTotal</th>\n",
       "      <th>StnPressure</th>\n",
       "      <th>SeaLevel</th>\n",
       "      <th>ResultSpeed</th>\n",
       "      <th>ResultDir</th>\n",
       "      <th>AvgSpeed</th>\n",
       "    </tr>\n",
       "  </thead>\n",
       "  <tbody>\n",
       "    <tr>\n",
       "      <th>0</th>\n",
       "      <td>1</td>\n",
       "      <td>2007-05-01</td>\n",
       "      <td>83</td>\n",
       "      <td>50</td>\n",
       "      <td>67</td>\n",
       "      <td>14</td>\n",
       "      <td>51</td>\n",
       "      <td>56</td>\n",
       "      <td>0</td>\n",
       "      <td>2</td>\n",
       "      <td>...</td>\n",
       "      <td></td>\n",
       "      <td>0</td>\n",
       "      <td>M</td>\n",
       "      <td>0.0</td>\n",
       "      <td>0.00</td>\n",
       "      <td>29.10</td>\n",
       "      <td>29.82</td>\n",
       "      <td>1.7</td>\n",
       "      <td>27</td>\n",
       "      <td>9.2</td>\n",
       "    </tr>\n",
       "    <tr>\n",
       "      <th>1</th>\n",
       "      <td>2</td>\n",
       "      <td>2007-05-01</td>\n",
       "      <td>84</td>\n",
       "      <td>52</td>\n",
       "      <td>68</td>\n",
       "      <td>M</td>\n",
       "      <td>51</td>\n",
       "      <td>57</td>\n",
       "      <td>0</td>\n",
       "      <td>3</td>\n",
       "      <td>...</td>\n",
       "      <td></td>\n",
       "      <td>M</td>\n",
       "      <td>M</td>\n",
       "      <td>M</td>\n",
       "      <td>0.00</td>\n",
       "      <td>29.18</td>\n",
       "      <td>29.82</td>\n",
       "      <td>2.7</td>\n",
       "      <td>25</td>\n",
       "      <td>9.6</td>\n",
       "    </tr>\n",
       "    <tr>\n",
       "      <th>2</th>\n",
       "      <td>1</td>\n",
       "      <td>2007-05-02</td>\n",
       "      <td>59</td>\n",
       "      <td>42</td>\n",
       "      <td>51</td>\n",
       "      <td>-3</td>\n",
       "      <td>42</td>\n",
       "      <td>47</td>\n",
       "      <td>14</td>\n",
       "      <td>0</td>\n",
       "      <td>...</td>\n",
       "      <td>BR</td>\n",
       "      <td>0</td>\n",
       "      <td>M</td>\n",
       "      <td>0.0</td>\n",
       "      <td>0.00</td>\n",
       "      <td>29.38</td>\n",
       "      <td>30.09</td>\n",
       "      <td>13.0</td>\n",
       "      <td>4</td>\n",
       "      <td>13.4</td>\n",
       "    </tr>\n",
       "    <tr>\n",
       "      <th>3</th>\n",
       "      <td>2</td>\n",
       "      <td>2007-05-02</td>\n",
       "      <td>60</td>\n",
       "      <td>43</td>\n",
       "      <td>52</td>\n",
       "      <td>M</td>\n",
       "      <td>42</td>\n",
       "      <td>47</td>\n",
       "      <td>13</td>\n",
       "      <td>0</td>\n",
       "      <td>...</td>\n",
       "      <td>BR HZ</td>\n",
       "      <td>M</td>\n",
       "      <td>M</td>\n",
       "      <td>M</td>\n",
       "      <td>0.00</td>\n",
       "      <td>29.44</td>\n",
       "      <td>30.08</td>\n",
       "      <td>13.3</td>\n",
       "      <td>2</td>\n",
       "      <td>13.4</td>\n",
       "    </tr>\n",
       "    <tr>\n",
       "      <th>4</th>\n",
       "      <td>1</td>\n",
       "      <td>2007-05-03</td>\n",
       "      <td>66</td>\n",
       "      <td>46</td>\n",
       "      <td>56</td>\n",
       "      <td>2</td>\n",
       "      <td>40</td>\n",
       "      <td>48</td>\n",
       "      <td>9</td>\n",
       "      <td>0</td>\n",
       "      <td>...</td>\n",
       "      <td></td>\n",
       "      <td>0</td>\n",
       "      <td>M</td>\n",
       "      <td>0.0</td>\n",
       "      <td>0.00</td>\n",
       "      <td>29.39</td>\n",
       "      <td>30.12</td>\n",
       "      <td>11.7</td>\n",
       "      <td>7</td>\n",
       "      <td>11.9</td>\n",
       "    </tr>\n",
       "    <tr>\n",
       "      <th>5</th>\n",
       "      <td>2</td>\n",
       "      <td>2007-05-03</td>\n",
       "      <td>67</td>\n",
       "      <td>48</td>\n",
       "      <td>58</td>\n",
       "      <td>M</td>\n",
       "      <td>40</td>\n",
       "      <td>50</td>\n",
       "      <td>7</td>\n",
       "      <td>0</td>\n",
       "      <td>...</td>\n",
       "      <td>HZ</td>\n",
       "      <td>M</td>\n",
       "      <td>M</td>\n",
       "      <td>M</td>\n",
       "      <td>0.00</td>\n",
       "      <td>29.46</td>\n",
       "      <td>30.12</td>\n",
       "      <td>12.9</td>\n",
       "      <td>6</td>\n",
       "      <td>13.2</td>\n",
       "    </tr>\n",
       "    <tr>\n",
       "      <th>6</th>\n",
       "      <td>1</td>\n",
       "      <td>2007-05-04</td>\n",
       "      <td>66</td>\n",
       "      <td>49</td>\n",
       "      <td>58</td>\n",
       "      <td>4</td>\n",
       "      <td>41</td>\n",
       "      <td>50</td>\n",
       "      <td>7</td>\n",
       "      <td>0</td>\n",
       "      <td>...</td>\n",
       "      <td>RA</td>\n",
       "      <td>0</td>\n",
       "      <td>M</td>\n",
       "      <td>0.0</td>\n",
       "      <td>T</td>\n",
       "      <td>29.31</td>\n",
       "      <td>30.05</td>\n",
       "      <td>10.4</td>\n",
       "      <td>8</td>\n",
       "      <td>10.8</td>\n",
       "    </tr>\n",
       "    <tr>\n",
       "      <th>7</th>\n",
       "      <td>2</td>\n",
       "      <td>2007-05-04</td>\n",
       "      <td>78</td>\n",
       "      <td>51</td>\n",
       "      <td>M</td>\n",
       "      <td>M</td>\n",
       "      <td>42</td>\n",
       "      <td>50</td>\n",
       "      <td>M</td>\n",
       "      <td>M</td>\n",
       "      <td>...</td>\n",
       "      <td></td>\n",
       "      <td>M</td>\n",
       "      <td>M</td>\n",
       "      <td>M</td>\n",
       "      <td>0.00</td>\n",
       "      <td>29.36</td>\n",
       "      <td>30.04</td>\n",
       "      <td>10.1</td>\n",
       "      <td>7</td>\n",
       "      <td>10.4</td>\n",
       "    </tr>\n",
       "    <tr>\n",
       "      <th>8</th>\n",
       "      <td>1</td>\n",
       "      <td>2007-05-05</td>\n",
       "      <td>66</td>\n",
       "      <td>53</td>\n",
       "      <td>60</td>\n",
       "      <td>5</td>\n",
       "      <td>38</td>\n",
       "      <td>49</td>\n",
       "      <td>5</td>\n",
       "      <td>0</td>\n",
       "      <td>...</td>\n",
       "      <td></td>\n",
       "      <td>0</td>\n",
       "      <td>M</td>\n",
       "      <td>0.0</td>\n",
       "      <td>T</td>\n",
       "      <td>29.40</td>\n",
       "      <td>30.10</td>\n",
       "      <td>11.7</td>\n",
       "      <td>7</td>\n",
       "      <td>12.0</td>\n",
       "    </tr>\n",
       "    <tr>\n",
       "      <th>9</th>\n",
       "      <td>2</td>\n",
       "      <td>2007-05-05</td>\n",
       "      <td>66</td>\n",
       "      <td>54</td>\n",
       "      <td>60</td>\n",
       "      <td>M</td>\n",
       "      <td>39</td>\n",
       "      <td>50</td>\n",
       "      <td>5</td>\n",
       "      <td>0</td>\n",
       "      <td>...</td>\n",
       "      <td></td>\n",
       "      <td>M</td>\n",
       "      <td>M</td>\n",
       "      <td>M</td>\n",
       "      <td>T</td>\n",
       "      <td>29.46</td>\n",
       "      <td>30.09</td>\n",
       "      <td>11.2</td>\n",
       "      <td>7</td>\n",
       "      <td>11.5</td>\n",
       "    </tr>\n",
       "  </tbody>\n",
       "</table>\n",
       "<p>10 rows × 22 columns</p>\n",
       "</div>"
      ],
      "text/plain": [
       "   Station        Date  Tmax  Tmin Tavg Depart  DewPoint WetBulb Heat Cool  \\\n",
       "0        1  2007-05-01    83    50   67     14        51      56    0    2   \n",
       "1        2  2007-05-01    84    52   68      M        51      57    0    3   \n",
       "2        1  2007-05-02    59    42   51     -3        42      47   14    0   \n",
       "3        2  2007-05-02    60    43   52      M        42      47   13    0   \n",
       "4        1  2007-05-03    66    46   56      2        40      48    9    0   \n",
       "5        2  2007-05-03    67    48   58      M        40      50    7    0   \n",
       "6        1  2007-05-04    66    49   58      4        41      50    7    0   \n",
       "7        2  2007-05-04    78    51    M      M        42      50    M    M   \n",
       "8        1  2007-05-05    66    53   60      5        38      49    5    0   \n",
       "9        2  2007-05-05    66    54   60      M        39      50    5    0   \n",
       "\n",
       "   ... CodeSum Depth Water1 SnowFall PrecipTotal StnPressure SeaLevel  \\\n",
       "0  ...             0      M      0.0        0.00       29.10    29.82   \n",
       "1  ...             M      M        M        0.00       29.18    29.82   \n",
       "2  ...      BR     0      M      0.0        0.00       29.38    30.09   \n",
       "3  ...   BR HZ     M      M        M        0.00       29.44    30.08   \n",
       "4  ...             0      M      0.0        0.00       29.39    30.12   \n",
       "5  ...      HZ     M      M        M        0.00       29.46    30.12   \n",
       "6  ...      RA     0      M      0.0           T       29.31    30.05   \n",
       "7  ...             M      M        M        0.00       29.36    30.04   \n",
       "8  ...             0      M      0.0           T       29.40    30.10   \n",
       "9  ...             M      M        M           T       29.46    30.09   \n",
       "\n",
       "  ResultSpeed ResultDir  AvgSpeed  \n",
       "0         1.7        27       9.2  \n",
       "1         2.7        25       9.6  \n",
       "2        13.0         4      13.4  \n",
       "3        13.3         2      13.4  \n",
       "4        11.7         7      11.9  \n",
       "5        12.9         6      13.2  \n",
       "6        10.4         8      10.8  \n",
       "7        10.1         7      10.4  \n",
       "8        11.7         7      12.0  \n",
       "9        11.2         7      11.5  \n",
       "\n",
       "[10 rows x 22 columns]"
      ]
     },
     "metadata": {},
     "output_type": "display_data"
    },
    {
     "name": "stdout",
     "output_type": "stream",
     "text": [
      "Shape of weather set:  (2944, 22)\n",
      "Data types of weather set:  Station          int64\n",
      "Date            object\n",
      "Tmax             int64\n",
      "Tmin             int64\n",
      "Tavg            object\n",
      "Depart          object\n",
      "DewPoint         int64\n",
      "WetBulb         object\n",
      "Heat            object\n",
      "Cool            object\n",
      "Sunrise         object\n",
      "Sunset          object\n",
      "CodeSum         object\n",
      "Depth           object\n",
      "Water1          object\n",
      "SnowFall        object\n",
      "PrecipTotal     object\n",
      "StnPressure     object\n",
      "SeaLevel        object\n",
      "ResultSpeed    float64\n",
      "ResultDir        int64\n",
      "AvgSpeed        object\n",
      "dtype: object\n"
     ]
    }
   ],
   "source": [
    "# preview file\n",
    "display(weather.head(10))\n",
    "print(\"Shape of weather set: \", weather.shape)\n",
    "print(\"Data types of weather set: \", weather.dtypes)"
   ]
  },
  {
   "cell_type": "markdown",
   "metadata": {},
   "source": [
    "### Data formatting\n",
    "From here, we convert the date to datetime, replace the placeholder for missing data per the kaggle documentation to NaN and we change the numeric columns to a float datatype. We perform a perliminary review using pandas profiling report as well. "
   ]
  },
  {
   "cell_type": "code",
   "execution_count": 19,
   "metadata": {},
   "outputs": [
    {
     "data": {
      "application/vnd.jupyter.widget-view+json": {
       "model_id": "33c0eca66a5a4aa39ea4054190a593ec",
       "version_major": 2,
       "version_minor": 0
      },
      "text/plain": [
       "HBox(children=(HTML(value='Summarize dataset'), FloatProgress(value=0.0, max=36.0), HTML(value='')))"
      ]
     },
     "metadata": {},
     "output_type": "display_data"
    },
    {
     "name": "stdout",
     "output_type": "stream",
     "text": [
      "\n"
     ]
    },
    {
     "data": {
      "application/vnd.jupyter.widget-view+json": {
       "model_id": "be3e2cb2090241b78f3de13b905cd94a",
       "version_major": 2,
       "version_minor": 0
      },
      "text/plain": [
       "HBox(children=(HTML(value='Generate report structure'), FloatProgress(value=0.0, max=1.0), HTML(value='')))"
      ]
     },
     "metadata": {},
     "output_type": "display_data"
    },
    {
     "name": "stdout",
     "output_type": "stream",
     "text": [
      "\n"
     ]
    },
    {
     "data": {
      "application/vnd.jupyter.widget-view+json": {
       "model_id": "c68483e815c6491aa75e0009bb988cbe",
       "version_major": 2,
       "version_minor": 0
      },
      "text/plain": [
       "HBox(children=(HTML(value='Render HTML'), FloatProgress(value=0.0, max=1.0), HTML(value='')))"
      ]
     },
     "metadata": {},
     "output_type": "display_data"
    },
    {
     "name": "stdout",
     "output_type": "stream",
     "text": [
      "\n"
     ]
    },
    {
     "data": {
      "application/vnd.jupyter.widget-view+json": {
       "model_id": "b4ce73929e674620b805c5d53f1d1729",
       "version_major": 2,
       "version_minor": 0
      },
      "text/plain": [
       "HBox(children=(HTML(value='Export report to file'), FloatProgress(value=0.0, max=1.0), HTML(value='')))"
      ]
     },
     "metadata": {},
     "output_type": "display_data"
    },
    {
     "name": "stdout",
     "output_type": "stream",
     "text": [
      "\n",
      "Report is ready for analysis!\n"
     ]
    }
   ],
   "source": [
    "#generate html summary of report about data\n",
    "report  = ProfileReport(weather)\n",
    "report.to_file(output_file = 'weather.html')\n",
    "print(\"Report is ready for analysis!\")"
   ]
  },
  {
   "cell_type": "markdown",
   "metadata": {},
   "source": [
    "Insights from report on Weather dataset: \n",
    "\n",
    "1. While it says that there are no missing data, from the metadata provided in the [NOAA Weather Documentation](https://www.kaggle.com/c/predict-west-nile-virus/data), those that are 'M', left blank, '-' and 'T' are missing data or have sparse/unavailable data. These will be reflected as NaN later.\n",
    "\n",
    "\n",
    "2. Weather data is obtained from two different stations equally. This means that on a date, two weather records are obtained, 1 from each of the weather stations. A location further away from a particular weather station may not very accurately reflect the weather data recorded. We will consider if there are stark differences between the data of weather station 1 and 2. If so, we will take weather data based on proportion of distance relative to the respective weather stations.\n",
    "\n",
    "\n",
    "3. There is strong correlation between `tmin`, `tmax`, `tavg`, which is expected. To avoid multicollinearity, we will just use the `tavg` field. On further analysis, there are missing data under tavg which can be computed from tmin and tmax. We will do this prior to dropping `tmin` and `tmax`. To convert `tavg` to numeric as well. \n",
    "\n",
    "\n",
    "4. `depart` which refers to departure of temperature from normal, has about 50% of entries of missing data which was reflected as 'M'. On futher analysis of data, this is because only station 1's data was recorded for this. Also, this field is computed by subtracting a reference temperature of 53/54 degrees farenheit from Tavg. We can impute these 'M' values with this computation, using the average (53.5 degrees farenheit), as reference. \n",
    "\n",
    "\n",
    "5. `dewpoint` is related to relative humidity which does affect breeding of *Culex* mosquitoes. This shows a relatively high correlation with temperature and the data is normally distributed. We are likely to retain this column and perform further analysis later. \n",
    "\n",
    "\n",
    "6. `wetbulb` is the lowest temperature that can be reached under current ambient conditions by evaporation of water only. To convert to numeric.\n",
    "\n",
    "\n",
    "7. `heat` and `cool` are temperature-related too. We will convert these columns to numeric.\n",
    "\n",
    "\n",
    "8. `sunrise` and `sunset` is a smilar case with `depart` column, where half of data is not available. When merging with train/test data, to also grab available information from station 1. The hours should not differ as much between both stations. As mosquitos thrive in the dark, sunrise and sunset data would be useful to find darkhours. \n",
    "\n",
    "\n",
    "9. `codesum` refers to the weather phenomena. This field has at least 50% missing data and nature of the data is not very useful for moquito breeding analysis beyond which we have considered. So we will drop this column. \n",
    "\n",
    "\n",
    "10. `depth` has either 0 value or missing data. `water1` is also not very useful as it only has M in its data. `snowfall` is not likely to help geenrate useful predictions as it's also either 0 or M. These three columns will be dropped. \n",
    "\n",
    "\n",
    "11. `preciptotal` is the precipitation level. It has some data labelled as traces but only a small proportion of data (10%). We will assume these as negligible, and impute with a 0.\n",
    "\n",
    "\n",
    "12. `stnpressure` and `sealevel` is not very relevant to mosquito breeding so we will drop these columns. \n",
    "\n",
    "\n",
    "13. `resultspeed`, `resultdir` and `avgspeed` relates to wind speed and direction. Wind speed may affect the humidity of the surroundings so we will keep this column for further analysis. However, we will drop `resultdir` as it is not very relevant. "
   ]
  },
  {
   "cell_type": "code",
   "execution_count": 20,
   "metadata": {},
   "outputs": [],
   "source": [
    "# adjust formatting\n",
    "def reformat(df):\n",
    "    ''' function that changes the formatting of dataframe by making column names all to lowercase and make the date to datetime format'''\n",
    "    df.rename(columns = str.lower, inplace = True) #change header to lowercase for easy handling\n",
    "    df['date'] = pd.to_datetime(df['date']) #change date to date time format\n",
    "    return df"
   ]
  },
  {
   "cell_type": "code",
   "execution_count": 21,
   "metadata": {},
   "outputs": [
    {
     "data": {
      "text/html": [
       "<div>\n",
       "<style scoped>\n",
       "    .dataframe tbody tr th:only-of-type {\n",
       "        vertical-align: middle;\n",
       "    }\n",
       "\n",
       "    .dataframe tbody tr th {\n",
       "        vertical-align: top;\n",
       "    }\n",
       "\n",
       "    .dataframe thead th {\n",
       "        text-align: right;\n",
       "    }\n",
       "</style>\n",
       "<table border=\"1\" class=\"dataframe\">\n",
       "  <thead>\n",
       "    <tr style=\"text-align: right;\">\n",
       "      <th></th>\n",
       "      <th>station</th>\n",
       "      <th>date</th>\n",
       "      <th>tmax</th>\n",
       "      <th>tmin</th>\n",
       "      <th>tavg</th>\n",
       "      <th>depart</th>\n",
       "      <th>dewpoint</th>\n",
       "      <th>wetbulb</th>\n",
       "      <th>heat</th>\n",
       "      <th>cool</th>\n",
       "      <th>...</th>\n",
       "      <th>codesum</th>\n",
       "      <th>depth</th>\n",
       "      <th>water1</th>\n",
       "      <th>snowfall</th>\n",
       "      <th>preciptotal</th>\n",
       "      <th>stnpressure</th>\n",
       "      <th>sealevel</th>\n",
       "      <th>resultspeed</th>\n",
       "      <th>resultdir</th>\n",
       "      <th>avgspeed</th>\n",
       "    </tr>\n",
       "  </thead>\n",
       "  <tbody>\n",
       "    <tr>\n",
       "      <th>0</th>\n",
       "      <td>1</td>\n",
       "      <td>2007-05-01</td>\n",
       "      <td>83</td>\n",
       "      <td>50</td>\n",
       "      <td>67</td>\n",
       "      <td>14</td>\n",
       "      <td>51</td>\n",
       "      <td>56</td>\n",
       "      <td>0</td>\n",
       "      <td>2</td>\n",
       "      <td>...</td>\n",
       "      <td></td>\n",
       "      <td>0</td>\n",
       "      <td>M</td>\n",
       "      <td>0.0</td>\n",
       "      <td>0.00</td>\n",
       "      <td>29.10</td>\n",
       "      <td>29.82</td>\n",
       "      <td>1.7</td>\n",
       "      <td>27</td>\n",
       "      <td>9.2</td>\n",
       "    </tr>\n",
       "    <tr>\n",
       "      <th>1</th>\n",
       "      <td>2</td>\n",
       "      <td>2007-05-01</td>\n",
       "      <td>84</td>\n",
       "      <td>52</td>\n",
       "      <td>68</td>\n",
       "      <td>M</td>\n",
       "      <td>51</td>\n",
       "      <td>57</td>\n",
       "      <td>0</td>\n",
       "      <td>3</td>\n",
       "      <td>...</td>\n",
       "      <td></td>\n",
       "      <td>M</td>\n",
       "      <td>M</td>\n",
       "      <td>M</td>\n",
       "      <td>0.00</td>\n",
       "      <td>29.18</td>\n",
       "      <td>29.82</td>\n",
       "      <td>2.7</td>\n",
       "      <td>25</td>\n",
       "      <td>9.6</td>\n",
       "    </tr>\n",
       "    <tr>\n",
       "      <th>2</th>\n",
       "      <td>1</td>\n",
       "      <td>2007-05-02</td>\n",
       "      <td>59</td>\n",
       "      <td>42</td>\n",
       "      <td>51</td>\n",
       "      <td>-3</td>\n",
       "      <td>42</td>\n",
       "      <td>47</td>\n",
       "      <td>14</td>\n",
       "      <td>0</td>\n",
       "      <td>...</td>\n",
       "      <td>BR</td>\n",
       "      <td>0</td>\n",
       "      <td>M</td>\n",
       "      <td>0.0</td>\n",
       "      <td>0.00</td>\n",
       "      <td>29.38</td>\n",
       "      <td>30.09</td>\n",
       "      <td>13.0</td>\n",
       "      <td>4</td>\n",
       "      <td>13.4</td>\n",
       "    </tr>\n",
       "    <tr>\n",
       "      <th>3</th>\n",
       "      <td>2</td>\n",
       "      <td>2007-05-02</td>\n",
       "      <td>60</td>\n",
       "      <td>43</td>\n",
       "      <td>52</td>\n",
       "      <td>M</td>\n",
       "      <td>42</td>\n",
       "      <td>47</td>\n",
       "      <td>13</td>\n",
       "      <td>0</td>\n",
       "      <td>...</td>\n",
       "      <td>BR HZ</td>\n",
       "      <td>M</td>\n",
       "      <td>M</td>\n",
       "      <td>M</td>\n",
       "      <td>0.00</td>\n",
       "      <td>29.44</td>\n",
       "      <td>30.08</td>\n",
       "      <td>13.3</td>\n",
       "      <td>2</td>\n",
       "      <td>13.4</td>\n",
       "    </tr>\n",
       "    <tr>\n",
       "      <th>4</th>\n",
       "      <td>1</td>\n",
       "      <td>2007-05-03</td>\n",
       "      <td>66</td>\n",
       "      <td>46</td>\n",
       "      <td>56</td>\n",
       "      <td>2</td>\n",
       "      <td>40</td>\n",
       "      <td>48</td>\n",
       "      <td>9</td>\n",
       "      <td>0</td>\n",
       "      <td>...</td>\n",
       "      <td></td>\n",
       "      <td>0</td>\n",
       "      <td>M</td>\n",
       "      <td>0.0</td>\n",
       "      <td>0.00</td>\n",
       "      <td>29.39</td>\n",
       "      <td>30.12</td>\n",
       "      <td>11.7</td>\n",
       "      <td>7</td>\n",
       "      <td>11.9</td>\n",
       "    </tr>\n",
       "  </tbody>\n",
       "</table>\n",
       "<p>5 rows × 22 columns</p>\n",
       "</div>"
      ],
      "text/plain": [
       "   station       date  tmax  tmin tavg depart  dewpoint wetbulb heat cool  \\\n",
       "0        1 2007-05-01    83    50   67     14        51      56    0    2   \n",
       "1        2 2007-05-01    84    52   68      M        51      57    0    3   \n",
       "2        1 2007-05-02    59    42   51     -3        42      47   14    0   \n",
       "3        2 2007-05-02    60    43   52      M        42      47   13    0   \n",
       "4        1 2007-05-03    66    46   56      2        40      48    9    0   \n",
       "\n",
       "   ... codesum depth water1 snowfall preciptotal stnpressure sealevel  \\\n",
       "0  ...             0      M      0.0        0.00       29.10    29.82   \n",
       "1  ...             M      M        M        0.00       29.18    29.82   \n",
       "2  ...      BR     0      M      0.0        0.00       29.38    30.09   \n",
       "3  ...   BR HZ     M      M        M        0.00       29.44    30.08   \n",
       "4  ...             0      M      0.0        0.00       29.39    30.12   \n",
       "\n",
       "  resultspeed resultdir  avgspeed  \n",
       "0         1.7        27       9.2  \n",
       "1         2.7        25       9.6  \n",
       "2        13.0         4      13.4  \n",
       "3        13.3         2      13.4  \n",
       "4        11.7         7      11.9  \n",
       "\n",
       "[5 rows x 22 columns]"
      ]
     },
     "metadata": {},
     "output_type": "display_data"
    },
    {
     "name": "stdout",
     "output_type": "stream",
     "text": [
      "Shape of weather data:  (2944, 22)\n",
      "station                 int64\n",
      "date           datetime64[ns]\n",
      "tmax                    int64\n",
      "tmin                    int64\n",
      "tavg                   object\n",
      "depart                 object\n",
      "dewpoint                int64\n",
      "wetbulb                object\n",
      "heat                   object\n",
      "cool                   object\n",
      "sunrise                object\n",
      "sunset                 object\n",
      "codesum                object\n",
      "depth                  object\n",
      "water1                 object\n",
      "snowfall               object\n",
      "preciptotal            object\n",
      "stnpressure            object\n",
      "sealevel               object\n",
      "resultspeed           float64\n",
      "resultdir               int64\n",
      "avgspeed               object\n",
      "dtype: object\n"
     ]
    }
   ],
   "source": [
    "# reformat weather data\n",
    "reformat(weather)\n",
    "display(weather.head())\n",
    "print(\"Shape of weather data: \", weather.shape)\n",
    "print(weather.dtypes)"
   ]
  },
  {
   "cell_type": "code",
   "execution_count": 22,
   "metadata": {},
   "outputs": [],
   "source": [
    "# drop irrelevant columns\n",
    "weather.drop(columns = ['codesum', 'depth', 'water1', 'snowfall', 'stnpressure', 'sealevel', 'resultdir'], inplace = True)"
   ]
  },
  {
   "cell_type": "code",
   "execution_count": 23,
   "metadata": {},
   "outputs": [
    {
     "name": "stdout",
     "output_type": "stream",
     "text": [
      "replaced \"M\" and \"-\" and \"  T\" in tavg\n",
      "replaced \"M\" and \"-\" and \"  T\" in depart\n",
      "replaced \"M\" and \"-\" and \"  T\" in wetbulb\n",
      "replaced \"M\" and \"-\" and \"  T\" in heat\n",
      "replaced \"M\" and \"-\" and \"  T\" in cool\n",
      "replaced \"M\" and \"-\" and \"  T\" in sunrise\n",
      "replaced \"M\" and \"-\" and \"  T\" in sunset\n",
      "replaced \"M\" and \"-\" and \"  T\" in preciptotal\n",
      "replaced \"M\" and \"-\" and \"  T\" in avgspeed\n"
     ]
    }
   ],
   "source": [
    "# replace placeholder for missing data and traces from kaggle documentation to NaN\n",
    "for x in weather.columns:\n",
    "    if weather[x].dtype == \"O\":\n",
    "        replacement = [y if ((y!=\"M\") and (y!=\"-\") and (y!=\"  T\") and (y!=\"T\") and (y!=\"\")) else np.NaN for y in weather[x]]\n",
    "        weather[x] = replacement\n",
    "        print('replaced \"M\" and \"-\" and \"  T\" in ' + x)   "
   ]
  },
  {
   "cell_type": "code",
   "execution_count": 24,
   "metadata": {},
   "outputs": [
    {
     "data": {
      "text/plain": [
       "station                 int64\n",
       "date           datetime64[ns]\n",
       "tmax                    int64\n",
       "tmin                    int64\n",
       "tavg                   object\n",
       "depart                 object\n",
       "dewpoint                int64\n",
       "wetbulb                object\n",
       "heat                   object\n",
       "cool                   object\n",
       "sunrise                object\n",
       "sunset                 object\n",
       "preciptotal            object\n",
       "resultspeed           float64\n",
       "avgspeed               object\n",
       "dtype: object"
      ]
     },
     "execution_count": 24,
     "metadata": {},
     "output_type": "execute_result"
    }
   ],
   "source": [
    "weather.dtypes"
   ]
  },
  {
   "cell_type": "code",
   "execution_count": 25,
   "metadata": {},
   "outputs": [],
   "source": [
    "# to change numeric columns to the right data type\n",
    "features = [\"tavg\", \"depart\", \"wetbulb\", \"heat\", \"cool\", \"sunrise\", \"sunset\", \"preciptotal\", \"avgspeed\"]"
   ]
  },
  {
   "cell_type": "code",
   "execution_count": 26,
   "metadata": {},
   "outputs": [
    {
     "name": "stdout",
     "output_type": "stream",
     "text": [
      "changed to numeric: tavg\n",
      "changed to numeric: depart\n",
      "changed to numeric: wetbulb\n",
      "changed to numeric: heat\n",
      "changed to numeric: cool\n",
      "changed to numeric: sunrise\n",
      "changed to numeric: sunset\n",
      "changed to numeric: preciptotal\n",
      "changed to numeric: avgspeed\n"
     ]
    }
   ],
   "source": [
    "# change the data types to float \n",
    "for x in features:\n",
    "    if weather[x].dtype == \"O\":\n",
    "        try:\n",
    "            weather[x] = pd.to_numeric(weather[x])\n",
    "            print(\"changed to numeric: \" + x)\n",
    "        except:\n",
    "            pass"
   ]
  },
  {
   "cell_type": "markdown",
   "metadata": {},
   "source": [
    "### Deal with null values in weather"
   ]
  },
  {
   "cell_type": "code",
   "execution_count": 27,
   "metadata": {},
   "outputs": [
    {
     "data": {
      "text/plain": [
       "station           0\n",
       "date              0\n",
       "tmax              0\n",
       "tmin              0\n",
       "tavg             11\n",
       "depart         1472\n",
       "dewpoint          0\n",
       "wetbulb           4\n",
       "heat             11\n",
       "cool             11\n",
       "sunrise        1472\n",
       "sunset         1472\n",
       "preciptotal     320\n",
       "resultspeed       0\n",
       "avgspeed          3\n",
       "dtype: int64"
      ]
     },
     "execution_count": 27,
     "metadata": {},
     "output_type": "execute_result"
    }
   ],
   "source": [
    "# view the missing values\n",
    "weather.isnull().sum()"
   ]
  },
  {
   "cell_type": "markdown",
   "metadata": {},
   "source": [
    "We find that half fields are empty in `Depart`, `Sunrise`, `Sunset`, `Depth`, due to unavailability of data for Station 2. We will consider combining two rows of data on the same date into one, by getting an average of the values for the same day weather data. "
   ]
  },
  {
   "cell_type": "code",
   "execution_count": 28,
   "metadata": {},
   "outputs": [],
   "source": [
    "#impute NAs in tavg column\n",
    "for i,j in weather.iterrows():\n",
    "    if pd.isnull(j.tavg):\n",
    "        weather.loc[i,'tavg'] = (j['tmin'] + j['tmax']) / 2 "
   ]
  },
  {
   "cell_type": "code",
   "execution_count": 29,
   "metadata": {},
   "outputs": [],
   "source": [
    "# no longer require tmin and tmax, so we drop it \n",
    "weather.drop(columns = ['tmin', 'tmax'], inplace = True)"
   ]
  },
  {
   "cell_type": "code",
   "execution_count": 30,
   "metadata": {},
   "outputs": [],
   "source": [
    "#impute NAs in depart column\n",
    "for i,j in weather.iterrows():\n",
    "    if pd.isnull(j.depart):\n",
    "        weather.loc[i,'depart'] = j['tavg'] - 53.5 "
   ]
  },
  {
   "cell_type": "code",
   "execution_count": 31,
   "metadata": {},
   "outputs": [
    {
     "data": {
      "text/plain": [
       "station           0\n",
       "date              0\n",
       "tavg              0\n",
       "depart            0\n",
       "dewpoint          0\n",
       "wetbulb           4\n",
       "heat             11\n",
       "cool             11\n",
       "sunrise        1472\n",
       "sunset         1472\n",
       "preciptotal     320\n",
       "resultspeed       0\n",
       "avgspeed          3\n",
       "dtype: int64"
      ]
     },
     "execution_count": 31,
     "metadata": {},
     "output_type": "execute_result"
    }
   ],
   "source": [
    "weather.isnull().sum()"
   ]
  },
  {
   "cell_type": "code",
   "execution_count": 32,
   "metadata": {},
   "outputs": [
    {
     "data": {
      "image/png": "[encoded data removed]",
      "text/plain": [
       "<Figure size 2016x360 with 5 Axes>"
      ]
     },
     "metadata": {},
     "output_type": "display_data"
    }
   ],
   "source": [
    "# view distribution of heat, cool, wetbulb, average wind speed and total precipitation\n",
    "fig, axs = plt.subplots(nrows = 1, ncols = 5, figsize = (28,5))\n",
    "ax1 = plt.subplot(151)\n",
    "ax1.hist(weather.heat)\n",
    "ax1.set_title(\"Distribution of Heat\")\n",
    "ax2 = plt.subplot(152)\n",
    "ax2.hist(weather.cool)\n",
    "ax2.set_title(\"Distribution of Cool\")\n",
    "ax3 = plt.subplot(153)\n",
    "ax3.hist(weather.wetbulb)\n",
    "ax3.set_title(\"Distribution of Wetbulb\")\n",
    "ax4 = plt.subplot(154)\n",
    "ax4.hist(weather.avgspeed)\n",
    "ax4.set_title(\"Distribution of Average Wind Speed\")\n",
    "ax5 = plt.subplot(155)\n",
    "ax5.hist(weather.preciptotal)\n",
    "ax5.set_title(\"Distribution of Total Precipitation\");"
   ]
  },
  {
   "cell_type": "markdown",
   "metadata": {},
   "source": [
    "From above, it appears that the heat, cool, average and total precipitation column have right-skewed distributions whicle wetblub is left-skewed. As these are not normally distributed, we'll impute the null values with median. "
   ]
  },
  {
   "cell_type": "code",
   "execution_count": 33,
   "metadata": {},
   "outputs": [],
   "source": [
    "# impute NAs in columns mentioned above with median\n",
    "cols = ['heat', 'cool', 'wetbulb', 'avgspeed', 'preciptotal']\n",
    "for col in cols:\n",
    "    weather[col].fillna(weather[col].median(), inplace = True)"
   ]
  },
  {
   "cell_type": "code",
   "execution_count": 34,
   "metadata": {},
   "outputs": [],
   "source": [
    "# impute NAs in sunrise and sunset column\n",
    "weather.sunrise.fillna(method = 'pad', inplace = True)\n",
    "weather.sunset.fillna(method = 'pad', inplace = True)"
   ]
  },
  {
   "cell_type": "code",
   "execution_count": 35,
   "metadata": {},
   "outputs": [
    {
     "data": {
      "text/plain": [
       "station        0\n",
       "date           0\n",
       "tavg           0\n",
       "depart         0\n",
       "dewpoint       0\n",
       "wetbulb        0\n",
       "heat           0\n",
       "cool           0\n",
       "sunrise        0\n",
       "sunset         0\n",
       "preciptotal    0\n",
       "resultspeed    0\n",
       "avgspeed       0\n",
       "dtype: int64"
      ]
     },
     "execution_count": 35,
     "metadata": {},
     "output_type": "execute_result"
    }
   ],
   "source": [
    "weather.isnull().sum()"
   ]
  },
  {
   "cell_type": "markdown",
   "metadata": {},
   "source": [
    "### Station reference\n",
    "Weather dataframe is now clean! Let's look at whether there is a huge difference in data between weather station 1 and weather station 2. If there is, then we will take the proportionate distance of the trap location to the respective station site. Else, we will use weather data from the nearest station. "
   ]
  },
  {
   "cell_type": "code",
   "execution_count": 36,
   "metadata": {},
   "outputs": [],
   "source": [
    "# create datetime columns\n",
    "weather['year'] = weather['date'].apply(lambda x: x.year)\n",
    "weather['mth'] = weather['date'].apply(lambda x: x.month)\n",
    "weather['weekofyear'] = weather['date'].apply(lambda x: x.weekofyear)"
   ]
  },
  {
   "cell_type": "code",
   "execution_count": 37,
   "metadata": {},
   "outputs": [],
   "source": [
    "# separate weather data for station 1 and 2\n",
    "weather_stn_1 = weather[weather.station == 1]\n",
    "weather_stn_2 = weather[weather.station == 2]"
   ]
  },
  {
   "cell_type": "code",
   "execution_count": 38,
   "metadata": {},
   "outputs": [
    {
     "data": {
      "image/png": "[encoded data removed]",
      "text/plain": [
       "<Figure size 1440x576 with 1 Axes>"
      ]
     },
     "metadata": {},
     "output_type": "display_data"
    }
   ],
   "source": [
    "# plot both average temperatures\n",
    "plt.figure(figsize = (20,8))\n",
    "sns.lineplot(data = weather_stn_1, x = 'weekofyear', y = 'tavg', label = 'Station 1 - Average Temp', palette = 'forestgreen')\n",
    "sns.lineplot(data = weather_stn_2, x = 'weekofyear', y = 'tavg', label = 'Station 2 - Average Temp', palette = 'c')\n",
    "plt.title(\"Weekly Average Temperatures (in Farenheit) for Weather Station 1 and 2 Respectively\");"
   ]
  },
  {
   "cell_type": "code",
   "execution_count": 39,
   "metadata": {},
   "outputs": [
    {
     "data": {
      "image/png": "[encoded data removed]",
      "text/plain": [
       "<Figure size 1440x576 with 1 Axes>"
      ]
     },
     "metadata": {},
     "output_type": "display_data"
    }
   ],
   "source": [
    "# plot both total precipitation\n",
    "plt.figure(figsize = (20,8))\n",
    "sns.lineplot(data = weather_stn_1, x = 'weekofyear', y = 'preciptotal', label = 'Station 1 - Total Precipitation', palette = 'forestgreen')\n",
    "sns.lineplot(data = weather_stn_2, x = 'weekofyear', y = 'preciptotal', label = 'Station 2 - Total Precipitation', palette = 'c')\n",
    "plt.title(\"Total Precipitation for Weather Station 1 and 2 Respectively\");"
   ]
  },
  {
   "cell_type": "markdown",
   "metadata": {},
   "source": [
    "It seems like there aren't many significant differences between the weather data from Station 1 and Station 2. Therefore, we can just take the weather data nearest to the testing site, for each entry in the train and test set."
   ]
  },
  {
   "cell_type": "markdown",
   "metadata": {},
   "source": [
    "### Feature engineering"
   ]
  },
  {
   "cell_type": "markdown",
   "metadata": {},
   "source": [
    "1. <u>Night hours based on sunrise and sunset</u>\n",
    "\n",
    "*Culex* mosquitoes are far more active during nighttime so if there were longer night hours for a day, there could be more mosquitoes present and therefore, higher change of presence of WNV. We can compute the hours of darkness based on the formula `darkhours = sunset - sunrise` and add it into the weather dataframe."
   ]
  },
  {
   "cell_type": "code",
   "execution_count": 40,
   "metadata": {},
   "outputs": [],
   "source": [
    "# create new column and apply formula. data is in the 24h format so there is a need to convert accordingly. \n",
    "weather['darkhours'] = (2400 - (weather['sunset'] - weather['sunrise'])) / 100"
   ]
  },
  {
   "cell_type": "code",
   "execution_count": 41,
   "metadata": {},
   "outputs": [],
   "source": [
    "# drop sunrise and sunset fields\n",
    "weather.drop(columns = ['sunrise', 'sunset'], inplace = True)"
   ]
  },
  {
   "cell_type": "markdown",
   "metadata": {},
   "source": [
    "2. <u>Compute relative humiidity based on `tavg` and `dewpoint`</u>\n",
    "\n",
    "Mentioned previously, *Culex* mosquitoes thrive in dry areas ie. areas with low humidity. Relative humidity can be computed based on this equation (Lawrence, Mark G, 2005): \n",
    "\n",
    "`Td = T - ((100 - RH)/5` \n",
    "\n",
    "where Td is the dewpoint temperature (in Celsius), T is observed temperature (in Celsius) and RH is relative humidity. "
   ]
  },
  {
   "cell_type": "code",
   "execution_count": 42,
   "metadata": {},
   "outputs": [],
   "source": [
    "#compute humidity and convert the temperature from farenheit to celsius based on the equation\n",
    "weather['humidity'] = 100 - (5*((weather['tavg']-32)*5/9)) + (5*((weather['dewpoint']-32)*5/9))"
   ]
  },
  {
   "cell_type": "markdown",
   "metadata": {},
   "source": [
    "3. <u>Rolling average of weather conditions</u>\n",
    "\n",
    "Prolonged optimum weather condition may help increase *Culex* mosquito population and spread WNV. This can be captured by computing the rolling average for the last x number of days. As it takes about 7-10 days for an egg to develop into an adult *Culex* mosquito (CDC, 2020), we will use the **7-day** and **10-day** moving averages for all data. "
   ]
  },
  {
   "cell_type": "code",
   "execution_count": 43,
   "metadata": {},
   "outputs": [
    {
     "data": {
      "text/plain": [
       "Index(['station', 'date', 'tavg', 'depart', 'dewpoint', 'wetbulb', 'heat',\n",
       "       'cool', 'preciptotal', 'resultspeed', 'avgspeed', 'year', 'mth',\n",
       "       'weekofyear', 'darkhours', 'humidity'],\n",
       "      dtype='object')"
      ]
     },
     "execution_count": 43,
     "metadata": {},
     "output_type": "execute_result"
    }
   ],
   "source": [
    "weather.columns"
   ]
  },
  {
   "cell_type": "code",
   "execution_count": 44,
   "metadata": {},
   "outputs": [],
   "source": [
    "# function to create new dataframes - df_weather_7, df_weather_10\n",
    "# n days of rolling\n",
    "\n",
    "def create_df_weather_n(n, df_weather):\n",
    "    features_mean = [\"tavg\", \"depart\", \"dewpoint\", \"wetbulb\", \"heat\", \"cool\", \"preciptotal\", \"resultspeed\", \"avgspeed\", \"humidity\", \"darkhours\"]\n",
    "    df_weather_n = pd.DataFrame(df_weather['date'],df_weather.index)\n",
    "    for feature in features_mean:\n",
    "        df_weather_n[feature] = df_weather[feature].rolling(n).mean()\n",
    "        \n",
    "    return df_weather_n"
   ]
  },
  {
   "cell_type": "code",
   "execution_count": 45,
   "metadata": {
    "scrolled": true
   },
   "outputs": [
    {
     "name": "stdout",
     "output_type": "stream",
     "text": [
      "Shape of weather_7:  (2944, 12)\n"
     ]
    },
    {
     "data": {
      "text/html": [
       "<div>\n",
       "<style scoped>\n",
       "    .dataframe tbody tr th:only-of-type {\n",
       "        vertical-align: middle;\n",
       "    }\n",
       "\n",
       "    .dataframe tbody tr th {\n",
       "        vertical-align: top;\n",
       "    }\n",
       "\n",
       "    .dataframe thead th {\n",
       "        text-align: right;\n",
       "    }\n",
       "</style>\n",
       "<table border=\"1\" class=\"dataframe\">\n",
       "  <thead>\n",
       "    <tr style=\"text-align: right;\">\n",
       "      <th></th>\n",
       "      <th>date</th>\n",
       "      <th>tavg</th>\n",
       "      <th>depart</th>\n",
       "      <th>dewpoint</th>\n",
       "      <th>wetbulb</th>\n",
       "      <th>heat</th>\n",
       "      <th>cool</th>\n",
       "      <th>preciptotal</th>\n",
       "      <th>resultspeed</th>\n",
       "      <th>avgspeed</th>\n",
       "      <th>humidity</th>\n",
       "      <th>darkhours</th>\n",
       "    </tr>\n",
       "  </thead>\n",
       "  <tbody>\n",
       "    <tr>\n",
       "      <th>0</th>\n",
       "      <td>2007-05-01</td>\n",
       "      <td>NaN</td>\n",
       "      <td>NaN</td>\n",
       "      <td>NaN</td>\n",
       "      <td>NaN</td>\n",
       "      <td>NaN</td>\n",
       "      <td>NaN</td>\n",
       "      <td>NaN</td>\n",
       "      <td>NaN</td>\n",
       "      <td>NaN</td>\n",
       "      <td>NaN</td>\n",
       "      <td>NaN</td>\n",
       "    </tr>\n",
       "    <tr>\n",
       "      <th>1</th>\n",
       "      <td>2007-05-01</td>\n",
       "      <td>NaN</td>\n",
       "      <td>NaN</td>\n",
       "      <td>NaN</td>\n",
       "      <td>NaN</td>\n",
       "      <td>NaN</td>\n",
       "      <td>NaN</td>\n",
       "      <td>NaN</td>\n",
       "      <td>NaN</td>\n",
       "      <td>NaN</td>\n",
       "      <td>NaN</td>\n",
       "      <td>NaN</td>\n",
       "    </tr>\n",
       "    <tr>\n",
       "      <th>2</th>\n",
       "      <td>2007-05-02</td>\n",
       "      <td>NaN</td>\n",
       "      <td>NaN</td>\n",
       "      <td>NaN</td>\n",
       "      <td>NaN</td>\n",
       "      <td>NaN</td>\n",
       "      <td>NaN</td>\n",
       "      <td>NaN</td>\n",
       "      <td>NaN</td>\n",
       "      <td>NaN</td>\n",
       "      <td>NaN</td>\n",
       "      <td>NaN</td>\n",
       "    </tr>\n",
       "    <tr>\n",
       "      <th>3</th>\n",
       "      <td>2007-05-02</td>\n",
       "      <td>NaN</td>\n",
       "      <td>NaN</td>\n",
       "      <td>NaN</td>\n",
       "      <td>NaN</td>\n",
       "      <td>NaN</td>\n",
       "      <td>NaN</td>\n",
       "      <td>NaN</td>\n",
       "      <td>NaN</td>\n",
       "      <td>NaN</td>\n",
       "      <td>NaN</td>\n",
       "      <td>NaN</td>\n",
       "    </tr>\n",
       "    <tr>\n",
       "      <th>4</th>\n",
       "      <td>2007-05-03</td>\n",
       "      <td>NaN</td>\n",
       "      <td>NaN</td>\n",
       "      <td>NaN</td>\n",
       "      <td>NaN</td>\n",
       "      <td>NaN</td>\n",
       "      <td>NaN</td>\n",
       "      <td>NaN</td>\n",
       "      <td>NaN</td>\n",
       "      <td>NaN</td>\n",
       "      <td>NaN</td>\n",
       "      <td>NaN</td>\n",
       "    </tr>\n",
       "  </tbody>\n",
       "</table>\n",
       "</div>"
      ],
      "text/plain": [
       "        date  tavg  depart  dewpoint  wetbulb  heat  cool  preciptotal  \\\n",
       "0 2007-05-01   NaN     NaN       NaN      NaN   NaN   NaN          NaN   \n",
       "1 2007-05-01   NaN     NaN       NaN      NaN   NaN   NaN          NaN   \n",
       "2 2007-05-02   NaN     NaN       NaN      NaN   NaN   NaN          NaN   \n",
       "3 2007-05-02   NaN     NaN       NaN      NaN   NaN   NaN          NaN   \n",
       "4 2007-05-03   NaN     NaN       NaN      NaN   NaN   NaN          NaN   \n",
       "\n",
       "   resultspeed  avgspeed  humidity  darkhours  \n",
       "0          NaN       NaN       NaN        NaN  \n",
       "1          NaN       NaN       NaN        NaN  \n",
       "2          NaN       NaN       NaN        NaN  \n",
       "3          NaN       NaN       NaN        NaN  \n",
       "4          NaN       NaN       NaN        NaN  "
      ]
     },
     "metadata": {},
     "output_type": "display_data"
    }
   ],
   "source": [
    "# create dataframe of rolling 7 days\n",
    "weather_7 = create_df_weather_n(7, weather)\n",
    "print(\"Shape of weather_7: \",weather_7.shape)\n",
    "display(weather_7.head())"
   ]
  },
  {
   "cell_type": "code",
   "execution_count": 46,
   "metadata": {},
   "outputs": [],
   "source": [
    "# fillna with original values\n",
    "for x in weather_7.columns:\n",
    "    try:\n",
    "        weather_7[x].fillna(weather[x], inplace = True)\n",
    "    except:\n",
    "        pass"
   ]
  },
  {
   "cell_type": "code",
   "execution_count": 47,
   "metadata": {},
   "outputs": [
    {
     "name": "stdout",
     "output_type": "stream",
     "text": [
      "Shape of weather_10:  (2944, 12)\n"
     ]
    },
    {
     "data": {
      "text/html": [
       "<div>\n",
       "<style scoped>\n",
       "    .dataframe tbody tr th:only-of-type {\n",
       "        vertical-align: middle;\n",
       "    }\n",
       "\n",
       "    .dataframe tbody tr th {\n",
       "        vertical-align: top;\n",
       "    }\n",
       "\n",
       "    .dataframe thead th {\n",
       "        text-align: right;\n",
       "    }\n",
       "</style>\n",
       "<table border=\"1\" class=\"dataframe\">\n",
       "  <thead>\n",
       "    <tr style=\"text-align: right;\">\n",
       "      <th></th>\n",
       "      <th>date</th>\n",
       "      <th>tavg</th>\n",
       "      <th>depart</th>\n",
       "      <th>dewpoint</th>\n",
       "      <th>wetbulb</th>\n",
       "      <th>heat</th>\n",
       "      <th>cool</th>\n",
       "      <th>preciptotal</th>\n",
       "      <th>resultspeed</th>\n",
       "      <th>avgspeed</th>\n",
       "      <th>humidity</th>\n",
       "      <th>darkhours</th>\n",
       "    </tr>\n",
       "  </thead>\n",
       "  <tbody>\n",
       "    <tr>\n",
       "      <th>0</th>\n",
       "      <td>2007-05-01</td>\n",
       "      <td>NaN</td>\n",
       "      <td>NaN</td>\n",
       "      <td>NaN</td>\n",
       "      <td>NaN</td>\n",
       "      <td>NaN</td>\n",
       "      <td>NaN</td>\n",
       "      <td>NaN</td>\n",
       "      <td>NaN</td>\n",
       "      <td>NaN</td>\n",
       "      <td>NaN</td>\n",
       "      <td>NaN</td>\n",
       "    </tr>\n",
       "    <tr>\n",
       "      <th>1</th>\n",
       "      <td>2007-05-01</td>\n",
       "      <td>NaN</td>\n",
       "      <td>NaN</td>\n",
       "      <td>NaN</td>\n",
       "      <td>NaN</td>\n",
       "      <td>NaN</td>\n",
       "      <td>NaN</td>\n",
       "      <td>NaN</td>\n",
       "      <td>NaN</td>\n",
       "      <td>NaN</td>\n",
       "      <td>NaN</td>\n",
       "      <td>NaN</td>\n",
       "    </tr>\n",
       "    <tr>\n",
       "      <th>2</th>\n",
       "      <td>2007-05-02</td>\n",
       "      <td>NaN</td>\n",
       "      <td>NaN</td>\n",
       "      <td>NaN</td>\n",
       "      <td>NaN</td>\n",
       "      <td>NaN</td>\n",
       "      <td>NaN</td>\n",
       "      <td>NaN</td>\n",
       "      <td>NaN</td>\n",
       "      <td>NaN</td>\n",
       "      <td>NaN</td>\n",
       "      <td>NaN</td>\n",
       "    </tr>\n",
       "    <tr>\n",
       "      <th>3</th>\n",
       "      <td>2007-05-02</td>\n",
       "      <td>NaN</td>\n",
       "      <td>NaN</td>\n",
       "      <td>NaN</td>\n",
       "      <td>NaN</td>\n",
       "      <td>NaN</td>\n",
       "      <td>NaN</td>\n",
       "      <td>NaN</td>\n",
       "      <td>NaN</td>\n",
       "      <td>NaN</td>\n",
       "      <td>NaN</td>\n",
       "      <td>NaN</td>\n",
       "    </tr>\n",
       "    <tr>\n",
       "      <th>4</th>\n",
       "      <td>2007-05-03</td>\n",
       "      <td>NaN</td>\n",
       "      <td>NaN</td>\n",
       "      <td>NaN</td>\n",
       "      <td>NaN</td>\n",
       "      <td>NaN</td>\n",
       "      <td>NaN</td>\n",
       "      <td>NaN</td>\n",
       "      <td>NaN</td>\n",
       "      <td>NaN</td>\n",
       "      <td>NaN</td>\n",
       "      <td>NaN</td>\n",
       "    </tr>\n",
       "  </tbody>\n",
       "</table>\n",
       "</div>"
      ],
      "text/plain": [
       "        date  tavg  depart  dewpoint  wetbulb  heat  cool  preciptotal  \\\n",
       "0 2007-05-01   NaN     NaN       NaN      NaN   NaN   NaN          NaN   \n",
       "1 2007-05-01   NaN     NaN       NaN      NaN   NaN   NaN          NaN   \n",
       "2 2007-05-02   NaN     NaN       NaN      NaN   NaN   NaN          NaN   \n",
       "3 2007-05-02   NaN     NaN       NaN      NaN   NaN   NaN          NaN   \n",
       "4 2007-05-03   NaN     NaN       NaN      NaN   NaN   NaN          NaN   \n",
       "\n",
       "   resultspeed  avgspeed  humidity  darkhours  \n",
       "0          NaN       NaN       NaN        NaN  \n",
       "1          NaN       NaN       NaN        NaN  \n",
       "2          NaN       NaN       NaN        NaN  \n",
       "3          NaN       NaN       NaN        NaN  \n",
       "4          NaN       NaN       NaN        NaN  "
      ]
     },
     "metadata": {},
     "output_type": "display_data"
    }
   ],
   "source": [
    "# create dataframe of rolling 10 days\n",
    "weather_10 = create_df_weather_n(10, weather)\n",
    "print(\"Shape of weather_10: \",weather_10.shape)\n",
    "display(weather_10.head())"
   ]
  },
  {
   "cell_type": "code",
   "execution_count": 48,
   "metadata": {},
   "outputs": [],
   "source": [
    "# fillna with original values\n",
    "for x in weather_10.columns:\n",
    "    try:\n",
    "        weather_10[x].fillna(weather[x], inplace = True)\n",
    "    except:\n",
    "        pass"
   ]
  },
  {
   "cell_type": "code",
   "execution_count": 49,
   "metadata": {},
   "outputs": [],
   "source": [
    "# rename columns for identification prior to merging\n",
    "weather_7.columns = [(x + \"_7\")for x in weather_7.columns]\n",
    "weather_7.rename(columns={'date_7':'date'}, inplace=True)\n",
    "weather_10.columns = [(x + \"_10\")for x in weather_10.columns]\n",
    "weather_10.rename(columns={'date_10':'date'}, inplace=True)"
   ]
  },
  {
   "cell_type": "code",
   "execution_count": 50,
   "metadata": {},
   "outputs": [
    {
     "data": {
      "text/html": [
       "<div>\n",
       "<style scoped>\n",
       "    .dataframe tbody tr th:only-of-type {\n",
       "        vertical-align: middle;\n",
       "    }\n",
       "\n",
       "    .dataframe tbody tr th {\n",
       "        vertical-align: top;\n",
       "    }\n",
       "\n",
       "    .dataframe thead th {\n",
       "        text-align: right;\n",
       "    }\n",
       "</style>\n",
       "<table border=\"1\" class=\"dataframe\">\n",
       "  <thead>\n",
       "    <tr style=\"text-align: right;\">\n",
       "      <th></th>\n",
       "      <th>date</th>\n",
       "      <th>tavg_7</th>\n",
       "      <th>depart_7</th>\n",
       "      <th>dewpoint_7</th>\n",
       "      <th>wetbulb_7</th>\n",
       "      <th>heat_7</th>\n",
       "      <th>cool_7</th>\n",
       "      <th>preciptotal_7</th>\n",
       "      <th>resultspeed_7</th>\n",
       "      <th>avgspeed_7</th>\n",
       "      <th>humidity_7</th>\n",
       "      <th>darkhours_7</th>\n",
       "    </tr>\n",
       "  </thead>\n",
       "  <tbody>\n",
       "    <tr>\n",
       "      <th>0</th>\n",
       "      <td>2007-05-01</td>\n",
       "      <td>67.000000</td>\n",
       "      <td>14.000000</td>\n",
       "      <td>51.000000</td>\n",
       "      <td>56.000000</td>\n",
       "      <td>0.000000</td>\n",
       "      <td>2.000000</td>\n",
       "      <td>0.000000</td>\n",
       "      <td>1.700000</td>\n",
       "      <td>9.200000</td>\n",
       "      <td>55.555556</td>\n",
       "      <td>9.990000</td>\n",
       "    </tr>\n",
       "    <tr>\n",
       "      <th>1</th>\n",
       "      <td>2007-05-01</td>\n",
       "      <td>68.000000</td>\n",
       "      <td>14.500000</td>\n",
       "      <td>51.000000</td>\n",
       "      <td>57.000000</td>\n",
       "      <td>0.000000</td>\n",
       "      <td>3.000000</td>\n",
       "      <td>0.000000</td>\n",
       "      <td>2.700000</td>\n",
       "      <td>9.600000</td>\n",
       "      <td>52.777778</td>\n",
       "      <td>9.990000</td>\n",
       "    </tr>\n",
       "    <tr>\n",
       "      <th>2</th>\n",
       "      <td>2007-05-02</td>\n",
       "      <td>51.000000</td>\n",
       "      <td>-3.000000</td>\n",
       "      <td>42.000000</td>\n",
       "      <td>47.000000</td>\n",
       "      <td>14.000000</td>\n",
       "      <td>0.000000</td>\n",
       "      <td>0.000000</td>\n",
       "      <td>13.000000</td>\n",
       "      <td>13.400000</td>\n",
       "      <td>75.000000</td>\n",
       "      <td>9.970000</td>\n",
       "    </tr>\n",
       "    <tr>\n",
       "      <th>3</th>\n",
       "      <td>2007-05-02</td>\n",
       "      <td>52.000000</td>\n",
       "      <td>-1.500000</td>\n",
       "      <td>42.000000</td>\n",
       "      <td>47.000000</td>\n",
       "      <td>13.000000</td>\n",
       "      <td>0.000000</td>\n",
       "      <td>0.000000</td>\n",
       "      <td>13.300000</td>\n",
       "      <td>13.400000</td>\n",
       "      <td>72.222222</td>\n",
       "      <td>9.970000</td>\n",
       "    </tr>\n",
       "    <tr>\n",
       "      <th>4</th>\n",
       "      <td>2007-05-03</td>\n",
       "      <td>56.000000</td>\n",
       "      <td>2.000000</td>\n",
       "      <td>40.000000</td>\n",
       "      <td>48.000000</td>\n",
       "      <td>9.000000</td>\n",
       "      <td>0.000000</td>\n",
       "      <td>0.000000</td>\n",
       "      <td>11.700000</td>\n",
       "      <td>11.900000</td>\n",
       "      <td>55.555556</td>\n",
       "      <td>9.950000</td>\n",
       "    </tr>\n",
       "    <tr>\n",
       "      <th>...</th>\n",
       "      <td>...</td>\n",
       "      <td>...</td>\n",
       "      <td>...</td>\n",
       "      <td>...</td>\n",
       "      <td>...</td>\n",
       "      <td>...</td>\n",
       "      <td>...</td>\n",
       "      <td>...</td>\n",
       "      <td>...</td>\n",
       "      <td>...</td>\n",
       "      <td>...</td>\n",
       "      <td>...</td>\n",
       "    </tr>\n",
       "    <tr>\n",
       "      <th>2939</th>\n",
       "      <td>2014-10-29</td>\n",
       "      <td>55.428571</td>\n",
       "      <td>4.571429</td>\n",
       "      <td>40.000000</td>\n",
       "      <td>48.428571</td>\n",
       "      <td>9.857143</td>\n",
       "      <td>0.285714</td>\n",
       "      <td>0.007143</td>\n",
       "      <td>10.442857</td>\n",
       "      <td>11.571429</td>\n",
       "      <td>57.142857</td>\n",
       "      <td>13.670000</td>\n",
       "    </tr>\n",
       "    <tr>\n",
       "      <th>2940</th>\n",
       "      <td>2014-10-30</td>\n",
       "      <td>53.571429</td>\n",
       "      <td>3.785714</td>\n",
       "      <td>40.142857</td>\n",
       "      <td>47.714286</td>\n",
       "      <td>11.714286</td>\n",
       "      <td>0.285714</td>\n",
       "      <td>0.007143</td>\n",
       "      <td>10.942857</td>\n",
       "      <td>11.585714</td>\n",
       "      <td>62.698413</td>\n",
       "      <td>13.684286</td>\n",
       "    </tr>\n",
       "    <tr>\n",
       "      <th>2941</th>\n",
       "      <td>2014-10-30</td>\n",
       "      <td>50.857143</td>\n",
       "      <td>0.285714</td>\n",
       "      <td>37.857143</td>\n",
       "      <td>45.428571</td>\n",
       "      <td>14.428571</td>\n",
       "      <td>0.285714</td>\n",
       "      <td>0.007143</td>\n",
       "      <td>10.071429</td>\n",
       "      <td>10.671429</td>\n",
       "      <td>63.888889</td>\n",
       "      <td>13.695714</td>\n",
       "    </tr>\n",
       "    <tr>\n",
       "      <th>2942</th>\n",
       "      <td>2014-10-31</td>\n",
       "      <td>47.000000</td>\n",
       "      <td>-2.500000</td>\n",
       "      <td>34.000000</td>\n",
       "      <td>41.714286</td>\n",
       "      <td>18.000000</td>\n",
       "      <td>0.000000</td>\n",
       "      <td>0.008571</td>\n",
       "      <td>11.485714</td>\n",
       "      <td>12.000000</td>\n",
       "      <td>63.888889</td>\n",
       "      <td>13.711429</td>\n",
       "    </tr>\n",
       "    <tr>\n",
       "      <th>2943</th>\n",
       "      <td>2014-10-31</td>\n",
       "      <td>44.857143</td>\n",
       "      <td>-5.571429</td>\n",
       "      <td>32.714286</td>\n",
       "      <td>40.142857</td>\n",
       "      <td>20.142857</td>\n",
       "      <td>0.000000</td>\n",
       "      <td>0.014286</td>\n",
       "      <td>12.471429</td>\n",
       "      <td>13.000000</td>\n",
       "      <td>66.269841</td>\n",
       "      <td>13.722857</td>\n",
       "    </tr>\n",
       "  </tbody>\n",
       "</table>\n",
       "<p>2944 rows × 12 columns</p>\n",
       "</div>"
      ],
      "text/plain": [
       "           date     tavg_7   depart_7  dewpoint_7  wetbulb_7     heat_7  \\\n",
       "0    2007-05-01  67.000000  14.000000   51.000000  56.000000   0.000000   \n",
       "1    2007-05-01  68.000000  14.500000   51.000000  57.000000   0.000000   \n",
       "2    2007-05-02  51.000000  -3.000000   42.000000  47.000000  14.000000   \n",
       "3    2007-05-02  52.000000  -1.500000   42.000000  47.000000  13.000000   \n",
       "4    2007-05-03  56.000000   2.000000   40.000000  48.000000   9.000000   \n",
       "...         ...        ...        ...         ...        ...        ...   \n",
       "2939 2014-10-29  55.428571   4.571429   40.000000  48.428571   9.857143   \n",
       "2940 2014-10-30  53.571429   3.785714   40.142857  47.714286  11.714286   \n",
       "2941 2014-10-30  50.857143   0.285714   37.857143  45.428571  14.428571   \n",
       "2942 2014-10-31  47.000000  -2.500000   34.000000  41.714286  18.000000   \n",
       "2943 2014-10-31  44.857143  -5.571429   32.714286  40.142857  20.142857   \n",
       "\n",
       "        cool_7  preciptotal_7  resultspeed_7  avgspeed_7  humidity_7  \\\n",
       "0     2.000000       0.000000       1.700000    9.200000   55.555556   \n",
       "1     3.000000       0.000000       2.700000    9.600000   52.777778   \n",
       "2     0.000000       0.000000      13.000000   13.400000   75.000000   \n",
       "3     0.000000       0.000000      13.300000   13.400000   72.222222   \n",
       "4     0.000000       0.000000      11.700000   11.900000   55.555556   \n",
       "...        ...            ...            ...         ...         ...   \n",
       "2939  0.285714       0.007143      10.442857   11.571429   57.142857   \n",
       "2940  0.285714       0.007143      10.942857   11.585714   62.698413   \n",
       "2941  0.285714       0.007143      10.071429   10.671429   63.888889   \n",
       "2942  0.000000       0.008571      11.485714   12.000000   63.888889   \n",
       "2943  0.000000       0.014286      12.471429   13.000000   66.269841   \n",
       "\n",
       "      darkhours_7  \n",
       "0        9.990000  \n",
       "1        9.990000  \n",
       "2        9.970000  \n",
       "3        9.970000  \n",
       "4        9.950000  \n",
       "...           ...  \n",
       "2939    13.670000  \n",
       "2940    13.684286  \n",
       "2941    13.695714  \n",
       "2942    13.711429  \n",
       "2943    13.722857  \n",
       "\n",
       "[2944 rows x 12 columns]"
      ]
     },
     "execution_count": 50,
     "metadata": {},
     "output_type": "execute_result"
    }
   ],
   "source": [
    "weather_7"
   ]
  },
  {
   "cell_type": "code",
   "execution_count": 51,
   "metadata": {},
   "outputs": [],
   "source": [
    "# merge all three data sets\n",
    "weather_merged = weather"
   ]
  },
  {
   "cell_type": "code",
   "execution_count": 52,
   "metadata": {},
   "outputs": [],
   "source": [
    "for x in weather_7.columns:\n",
    "    weather_merged[x] = weather_7[x]"
   ]
  },
  {
   "cell_type": "code",
   "execution_count": 53,
   "metadata": {},
   "outputs": [],
   "source": [
    "for x in weather_10.columns:\n",
    "    weather_merged[x] = weather_10[x]"
   ]
  },
  {
   "cell_type": "code",
   "execution_count": 54,
   "metadata": {},
   "outputs": [
    {
     "data": {
      "text/html": [
       "<div>\n",
       "<style scoped>\n",
       "    .dataframe tbody tr th:only-of-type {\n",
       "        vertical-align: middle;\n",
       "    }\n",
       "\n",
       "    .dataframe tbody tr th {\n",
       "        vertical-align: top;\n",
       "    }\n",
       "\n",
       "    .dataframe thead th {\n",
       "        text-align: right;\n",
       "    }\n",
       "</style>\n",
       "<table border=\"1\" class=\"dataframe\">\n",
       "  <thead>\n",
       "    <tr style=\"text-align: right;\">\n",
       "      <th></th>\n",
       "      <th>station</th>\n",
       "      <th>date</th>\n",
       "      <th>tavg</th>\n",
       "      <th>depart</th>\n",
       "      <th>dewpoint</th>\n",
       "      <th>wetbulb</th>\n",
       "      <th>heat</th>\n",
       "      <th>cool</th>\n",
       "      <th>preciptotal</th>\n",
       "      <th>resultspeed</th>\n",
       "      <th>...</th>\n",
       "      <th>depart_10</th>\n",
       "      <th>dewpoint_10</th>\n",
       "      <th>wetbulb_10</th>\n",
       "      <th>heat_10</th>\n",
       "      <th>cool_10</th>\n",
       "      <th>preciptotal_10</th>\n",
       "      <th>resultspeed_10</th>\n",
       "      <th>avgspeed_10</th>\n",
       "      <th>humidity_10</th>\n",
       "      <th>darkhours_10</th>\n",
       "    </tr>\n",
       "  </thead>\n",
       "  <tbody>\n",
       "    <tr>\n",
       "      <th>0</th>\n",
       "      <td>1</td>\n",
       "      <td>2007-05-01</td>\n",
       "      <td>67.0</td>\n",
       "      <td>14.0</td>\n",
       "      <td>51</td>\n",
       "      <td>56.0</td>\n",
       "      <td>0.0</td>\n",
       "      <td>2.0</td>\n",
       "      <td>0.0</td>\n",
       "      <td>1.7</td>\n",
       "      <td>...</td>\n",
       "      <td>14.0</td>\n",
       "      <td>51.0</td>\n",
       "      <td>56.0</td>\n",
       "      <td>0.0</td>\n",
       "      <td>2.0</td>\n",
       "      <td>0.0</td>\n",
       "      <td>1.7</td>\n",
       "      <td>9.2</td>\n",
       "      <td>55.555556</td>\n",
       "      <td>9.99</td>\n",
       "    </tr>\n",
       "    <tr>\n",
       "      <th>1</th>\n",
       "      <td>2</td>\n",
       "      <td>2007-05-01</td>\n",
       "      <td>68.0</td>\n",
       "      <td>14.5</td>\n",
       "      <td>51</td>\n",
       "      <td>57.0</td>\n",
       "      <td>0.0</td>\n",
       "      <td>3.0</td>\n",
       "      <td>0.0</td>\n",
       "      <td>2.7</td>\n",
       "      <td>...</td>\n",
       "      <td>14.5</td>\n",
       "      <td>51.0</td>\n",
       "      <td>57.0</td>\n",
       "      <td>0.0</td>\n",
       "      <td>3.0</td>\n",
       "      <td>0.0</td>\n",
       "      <td>2.7</td>\n",
       "      <td>9.6</td>\n",
       "      <td>52.777778</td>\n",
       "      <td>9.99</td>\n",
       "    </tr>\n",
       "    <tr>\n",
       "      <th>2</th>\n",
       "      <td>1</td>\n",
       "      <td>2007-05-02</td>\n",
       "      <td>51.0</td>\n",
       "      <td>-3.0</td>\n",
       "      <td>42</td>\n",
       "      <td>47.0</td>\n",
       "      <td>14.0</td>\n",
       "      <td>0.0</td>\n",
       "      <td>0.0</td>\n",
       "      <td>13.0</td>\n",
       "      <td>...</td>\n",
       "      <td>-3.0</td>\n",
       "      <td>42.0</td>\n",
       "      <td>47.0</td>\n",
       "      <td>14.0</td>\n",
       "      <td>0.0</td>\n",
       "      <td>0.0</td>\n",
       "      <td>13.0</td>\n",
       "      <td>13.4</td>\n",
       "      <td>75.000000</td>\n",
       "      <td>9.97</td>\n",
       "    </tr>\n",
       "    <tr>\n",
       "      <th>3</th>\n",
       "      <td>2</td>\n",
       "      <td>2007-05-02</td>\n",
       "      <td>52.0</td>\n",
       "      <td>-1.5</td>\n",
       "      <td>42</td>\n",
       "      <td>47.0</td>\n",
       "      <td>13.0</td>\n",
       "      <td>0.0</td>\n",
       "      <td>0.0</td>\n",
       "      <td>13.3</td>\n",
       "      <td>...</td>\n",
       "      <td>-1.5</td>\n",
       "      <td>42.0</td>\n",
       "      <td>47.0</td>\n",
       "      <td>13.0</td>\n",
       "      <td>0.0</td>\n",
       "      <td>0.0</td>\n",
       "      <td>13.3</td>\n",
       "      <td>13.4</td>\n",
       "      <td>72.222222</td>\n",
       "      <td>9.97</td>\n",
       "    </tr>\n",
       "    <tr>\n",
       "      <th>4</th>\n",
       "      <td>1</td>\n",
       "      <td>2007-05-03</td>\n",
       "      <td>56.0</td>\n",
       "      <td>2.0</td>\n",
       "      <td>40</td>\n",
       "      <td>48.0</td>\n",
       "      <td>9.0</td>\n",
       "      <td>0.0</td>\n",
       "      <td>0.0</td>\n",
       "      <td>11.7</td>\n",
       "      <td>...</td>\n",
       "      <td>2.0</td>\n",
       "      <td>40.0</td>\n",
       "      <td>48.0</td>\n",
       "      <td>9.0</td>\n",
       "      <td>0.0</td>\n",
       "      <td>0.0</td>\n",
       "      <td>11.7</td>\n",
       "      <td>11.9</td>\n",
       "      <td>55.555556</td>\n",
       "      <td>9.95</td>\n",
       "    </tr>\n",
       "  </tbody>\n",
       "</table>\n",
       "<p>5 rows × 38 columns</p>\n",
       "</div>"
      ],
      "text/plain": [
       "   station       date  tavg  depart  dewpoint  wetbulb  heat  cool  \\\n",
       "0        1 2007-05-01  67.0    14.0        51     56.0   0.0   2.0   \n",
       "1        2 2007-05-01  68.0    14.5        51     57.0   0.0   3.0   \n",
       "2        1 2007-05-02  51.0    -3.0        42     47.0  14.0   0.0   \n",
       "3        2 2007-05-02  52.0    -1.5        42     47.0  13.0   0.0   \n",
       "4        1 2007-05-03  56.0     2.0        40     48.0   9.0   0.0   \n",
       "\n",
       "   preciptotal  resultspeed  ...  depart_10  dewpoint_10  wetbulb_10  heat_10  \\\n",
       "0          0.0          1.7  ...       14.0         51.0        56.0      0.0   \n",
       "1          0.0          2.7  ...       14.5         51.0        57.0      0.0   \n",
       "2          0.0         13.0  ...       -3.0         42.0        47.0     14.0   \n",
       "3          0.0         13.3  ...       -1.5         42.0        47.0     13.0   \n",
       "4          0.0         11.7  ...        2.0         40.0        48.0      9.0   \n",
       "\n",
       "   cool_10  preciptotal_10  resultspeed_10  avgspeed_10  humidity_10  \\\n",
       "0      2.0             0.0             1.7          9.2    55.555556   \n",
       "1      3.0             0.0             2.7          9.6    52.777778   \n",
       "2      0.0             0.0            13.0         13.4    75.000000   \n",
       "3      0.0             0.0            13.3         13.4    72.222222   \n",
       "4      0.0             0.0            11.7         11.9    55.555556   \n",
       "\n",
       "   darkhours_10  \n",
       "0          9.99  \n",
       "1          9.99  \n",
       "2          9.97  \n",
       "3          9.97  \n",
       "4          9.95  \n",
       "\n",
       "[5 rows x 38 columns]"
      ]
     },
     "metadata": {},
     "output_type": "display_data"
    },
    {
     "name": "stdout",
     "output_type": "stream",
     "text": [
      "Shape of merged weather data:  (2944, 38)\n"
     ]
    }
   ],
   "source": [
    "# check\n",
    "display(weather_merged.head())\n",
    "print(\"Shape of merged weather data: \", weather_merged.shape)"
   ]
  },
  {
   "cell_type": "code",
   "execution_count": 55,
   "metadata": {},
   "outputs": [
    {
     "data": {
      "text/plain": [
       "station           0\n",
       "date              0\n",
       "tavg              0\n",
       "depart            0\n",
       "dewpoint          0\n",
       "wetbulb           0\n",
       "heat              0\n",
       "cool              0\n",
       "preciptotal       0\n",
       "resultspeed       0\n",
       "avgspeed          0\n",
       "year              0\n",
       "mth               0\n",
       "weekofyear        0\n",
       "darkhours         0\n",
       "humidity          0\n",
       "tavg_7            0\n",
       "depart_7          0\n",
       "dewpoint_7        0\n",
       "wetbulb_7         0\n",
       "heat_7            0\n",
       "cool_7            0\n",
       "preciptotal_7     0\n",
       "resultspeed_7     0\n",
       "avgspeed_7        0\n",
       "humidity_7        0\n",
       "darkhours_7       0\n",
       "tavg_10           0\n",
       "depart_10         0\n",
       "dewpoint_10       0\n",
       "wetbulb_10        0\n",
       "heat_10           0\n",
       "cool_10           0\n",
       "preciptotal_10    0\n",
       "resultspeed_10    0\n",
       "avgspeed_10       0\n",
       "humidity_10       0\n",
       "darkhours_10      0\n",
       "dtype: int64"
      ]
     },
     "execution_count": 55,
     "metadata": {},
     "output_type": "execute_result"
    }
   ],
   "source": [
    "#check\n",
    "weather_merged.isnull().sum()"
   ]
  },
  {
   "cell_type": "markdown",
   "metadata": {},
   "source": [
    "### Save cleaned weather data"
   ]
  },
  {
   "cell_type": "code",
   "execution_count": 57,
   "metadata": {},
   "outputs": [],
   "source": [
    "weather_merged.to_csv(\"../data/clean/weather_clean.csv\", index = False)"
   ]
  },
  {
   "cell_type": "markdown",
   "metadata": {},
   "source": [
    "### References\n",
    "\n",
    "\"Low Rainfall and Possible Culex Season\" (SCAL, 2019)\n",
    "https://www.scal.com.sg/info-details/Low-Rainfall-and-Possible-Culex-Season/\n",
    "\n",
    "\"The Effect of Temperature on Life History Traits of Culex Mosquitoes\" (Entomol, 2015)\n",
    "https://www.ncbi.nlm.nih.gov/pmc/articles/PMC3955846/\n",
    "\n",
    "\"How do I calculate dew point when I know the temperature and the relative humidity?\" (Lawrence, Mark G, 2005)\n",
    "https://iridl.ldeo.columbia.edu/dochelp/QA/Basic/dewpoint.html\n",
    "\n",
    "\"Life stages of Culex pipiens, Cx. quinquefasciatus, and Cx. tarsalis\" (CDC, 2020)\n",
    "https://www.cdc.gov/mosquitoes/about/life-cycles/culex.html"
   ]
  }
 ],
 "metadata": {
  "kernelspec": {
   "display_name": "Python 3",
   "language": "python",
   "name": "python3"
  },
  "language_info": {
   "codemirror_mode": {
    "name": "ipython",
    "version": 3
   },
   "file_extension": ".py",
   "mimetype": "text/x-python",
   "name": "python",
   "nbconvert_exporter": "python",
   "pygments_lexer": "ipython3",
   "version": "3.8.5"
  }
 },
 "nbformat": 4,
 "nbformat_minor": 4
}
