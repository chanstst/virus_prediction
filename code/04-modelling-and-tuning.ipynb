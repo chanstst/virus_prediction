{
 "cells": [
  {
   "cell_type": "markdown",
   "metadata": {},
   "source": [
    "# Modelling and Tuning\n",
    "In this notebook, we model with the pre-processed datasets and determine the production model.\n",
    "\n",
    "Contents:\n",
    "- [Imports](#Import-libraries-and-data)\n",
    "- [Model preprocessing and preparation](#Model-preprocessing-and-preparation)\n",
    "- [Model evaluation and selection](#Model-evaluation-and-selection)\n"
   ]
  },
  {
   "cell_type": "markdown",
   "metadata": {},
   "source": [
    "### Import libraries and data"
   ]
  },
  {
   "cell_type": "code",
   "execution_count": 188,
   "metadata": {},
   "outputs": [
    {
     "name": "stdout",
     "output_type": "stream",
     "text": [
      "Requirement already satisfied: mlens in c:\\users\\2awan\\anaconda3\\lib\\site-packages (0.2.3)\n",
      "Requirement already satisfied: scipy>=0.17 in c:\\users\\2awan\\anaconda3\\lib\\site-packages (from mlens) (1.5.2)\n",
      "Requirement already satisfied: numpy>=1.11 in c:\\users\\2awan\\anaconda3\\lib\\site-packages (from mlens) (1.19.2)\n"
     ]
    }
   ],
   "source": [
    "# import libraries\n",
    "import numpy as np\n",
    "import pandas as pd\n",
    "import warnings\n",
    "warnings.filterwarnings('ignore')\n",
    "from prettytable import PrettyTable\n",
    "from imblearn.over_sampling import RandomOverSampler\n",
    "import matplotlib.pyplot as plt\n",
    "plt.style.use('fivethirtyeight')\n",
    "\n",
    "import sys\n",
    "from sklearn.feature_selection import chi2, SelectKBest\n",
    "from collections import Counter\n",
    "from imblearn.over_sampling import ADASYN\n",
    "from sklearn.preprocessing import StandardScaler\n",
    "from sklearn.pipeline import Pipeline\n",
    "from sklearn.model_selection import train_test_split, GridSearchCV\n",
    "from sklearn.linear_model import LogisticRegression\n",
    "from sklearn.neighbors import KNeighborsClassifier\n",
    "from sklearn.tree import DecisionTreeClassifier\n",
    "from sklearn.ensemble import RandomForestClassifier, AdaBoostClassifier\n",
    "from sklearn.metrics import confusion_matrix, accuracy_score, precision_score, recall_score, f1_score, roc_auc_score, roc_curve, auc\n",
    "!{sys.executable} -m pip install mlens\n",
    "from mlens.ensemble import SuperLearner"
   ]
  },
  {
   "cell_type": "code",
   "execution_count": 305,
   "metadata": {},
   "outputs": [],
   "source": [
    "# import train and test set\n",
    "train = pd.read_csv(\"../data/clean/train_processed.csv\")\n",
    "test = pd.read_csv(\"../data/clean/test_processed.csv\")"
   ]
  },
  {
   "cell_type": "code",
   "execution_count": 306,
   "metadata": {
    "scrolled": true
   },
   "outputs": [
    {
     "data": {
      "text/html": [
       "<div>\n",
       "<style scoped>\n",
       "    .dataframe tbody tr th:only-of-type {\n",
       "        vertical-align: middle;\n",
       "    }\n",
       "\n",
       "    .dataframe tbody tr th {\n",
       "        vertical-align: top;\n",
       "    }\n",
       "\n",
       "    .dataframe thead th {\n",
       "        text-align: right;\n",
       "    }\n",
       "</style>\n",
       "<table border=\"1\" class=\"dataframe\">\n",
       "  <thead>\n",
       "    <tr style=\"text-align: right;\">\n",
       "      <th></th>\n",
       "      <th>nummosquitos</th>\n",
       "      <th>cool_7</th>\n",
       "      <th>heat_10</th>\n",
       "      <th>species_CULEX PIPIENS</th>\n",
       "      <th>weekofyear</th>\n",
       "      <th>dewpoint_10</th>\n",
       "      <th>species_CULEX RESTUANS</th>\n",
       "      <th>wnvpresent</th>\n",
       "    </tr>\n",
       "  </thead>\n",
       "  <tbody>\n",
       "    <tr>\n",
       "      <th>0</th>\n",
       "      <td>1</td>\n",
       "      <td>1.714286</td>\n",
       "      <td>1.8</td>\n",
       "      <td>0</td>\n",
       "      <td>22</td>\n",
       "      <td>50.3</td>\n",
       "      <td>0</td>\n",
       "      <td>0</td>\n",
       "    </tr>\n",
       "    <tr>\n",
       "      <th>1</th>\n",
       "      <td>1</td>\n",
       "      <td>1.714286</td>\n",
       "      <td>1.8</td>\n",
       "      <td>0</td>\n",
       "      <td>22</td>\n",
       "      <td>50.3</td>\n",
       "      <td>1</td>\n",
       "      <td>0</td>\n",
       "    </tr>\n",
       "    <tr>\n",
       "      <th>2</th>\n",
       "      <td>1</td>\n",
       "      <td>1.714286</td>\n",
       "      <td>1.8</td>\n",
       "      <td>0</td>\n",
       "      <td>22</td>\n",
       "      <td>50.3</td>\n",
       "      <td>1</td>\n",
       "      <td>0</td>\n",
       "    </tr>\n",
       "    <tr>\n",
       "      <th>3</th>\n",
       "      <td>1</td>\n",
       "      <td>1.714286</td>\n",
       "      <td>1.8</td>\n",
       "      <td>0</td>\n",
       "      <td>22</td>\n",
       "      <td>50.3</td>\n",
       "      <td>0</td>\n",
       "      <td>0</td>\n",
       "    </tr>\n",
       "    <tr>\n",
       "      <th>4</th>\n",
       "      <td>4</td>\n",
       "      <td>1.714286</td>\n",
       "      <td>1.8</td>\n",
       "      <td>0</td>\n",
       "      <td>22</td>\n",
       "      <td>50.3</td>\n",
       "      <td>1</td>\n",
       "      <td>0</td>\n",
       "    </tr>\n",
       "  </tbody>\n",
       "</table>\n",
       "</div>"
      ],
      "text/plain": [
       "   nummosquitos    cool_7  heat_10  species_CULEX PIPIENS  weekofyear  \\\n",
       "0             1  1.714286      1.8                      0          22   \n",
       "1             1  1.714286      1.8                      0          22   \n",
       "2             1  1.714286      1.8                      0          22   \n",
       "3             1  1.714286      1.8                      0          22   \n",
       "4             4  1.714286      1.8                      0          22   \n",
       "\n",
       "   dewpoint_10  species_CULEX RESTUANS  wnvpresent  \n",
       "0         50.3                       0           0  \n",
       "1         50.3                       1           0  \n",
       "2         50.3                       1           0  \n",
       "3         50.3                       0           0  \n",
       "4         50.3                       1           0  "
      ]
     },
     "metadata": {},
     "output_type": "display_data"
    },
    {
     "name": "stdout",
     "output_type": "stream",
     "text": [
      "Shape of train set:  (8475, 8)\n"
     ]
    },
    {
     "data": {
      "text/html": [
       "<div>\n",
       "<style scoped>\n",
       "    .dataframe tbody tr th:only-of-type {\n",
       "        vertical-align: middle;\n",
       "    }\n",
       "\n",
       "    .dataframe tbody tr th {\n",
       "        vertical-align: top;\n",
       "    }\n",
       "\n",
       "    .dataframe thead th {\n",
       "        text-align: right;\n",
       "    }\n",
       "</style>\n",
       "<table border=\"1\" class=\"dataframe\">\n",
       "  <thead>\n",
       "    <tr style=\"text-align: right;\">\n",
       "      <th></th>\n",
       "      <th>nummosquitos</th>\n",
       "      <th>cool_7</th>\n",
       "      <th>heat_10</th>\n",
       "      <th>species_CULEX PIPIENS</th>\n",
       "      <th>weekofyear</th>\n",
       "      <th>dewpoint_10</th>\n",
       "      <th>species_CULEX RESTUANS</th>\n",
       "      <th>id</th>\n",
       "    </tr>\n",
       "  </thead>\n",
       "  <tbody>\n",
       "    <tr>\n",
       "      <th>0</th>\n",
       "      <td>14.0</td>\n",
       "      <td>7.0</td>\n",
       "      <td>0.0</td>\n",
       "      <td>0</td>\n",
       "      <td>24</td>\n",
       "      <td>64.4</td>\n",
       "      <td>0</td>\n",
       "      <td>1</td>\n",
       "    </tr>\n",
       "    <tr>\n",
       "      <th>1</th>\n",
       "      <td>14.0</td>\n",
       "      <td>7.0</td>\n",
       "      <td>0.0</td>\n",
       "      <td>0</td>\n",
       "      <td>24</td>\n",
       "      <td>64.4</td>\n",
       "      <td>1</td>\n",
       "      <td>2</td>\n",
       "    </tr>\n",
       "    <tr>\n",
       "      <th>2</th>\n",
       "      <td>14.0</td>\n",
       "      <td>7.0</td>\n",
       "      <td>0.0</td>\n",
       "      <td>1</td>\n",
       "      <td>24</td>\n",
       "      <td>64.4</td>\n",
       "      <td>0</td>\n",
       "      <td>3</td>\n",
       "    </tr>\n",
       "    <tr>\n",
       "      <th>3</th>\n",
       "      <td>14.0</td>\n",
       "      <td>7.0</td>\n",
       "      <td>0.0</td>\n",
       "      <td>0</td>\n",
       "      <td>24</td>\n",
       "      <td>64.4</td>\n",
       "      <td>0</td>\n",
       "      <td>4</td>\n",
       "    </tr>\n",
       "    <tr>\n",
       "      <th>4</th>\n",
       "      <td>14.0</td>\n",
       "      <td>7.0</td>\n",
       "      <td>0.0</td>\n",
       "      <td>0</td>\n",
       "      <td>24</td>\n",
       "      <td>64.4</td>\n",
       "      <td>0</td>\n",
       "      <td>5</td>\n",
       "    </tr>\n",
       "  </tbody>\n",
       "</table>\n",
       "</div>"
      ],
      "text/plain": [
       "   nummosquitos  cool_7  heat_10  species_CULEX PIPIENS  weekofyear  \\\n",
       "0          14.0     7.0      0.0                      0          24   \n",
       "1          14.0     7.0      0.0                      0          24   \n",
       "2          14.0     7.0      0.0                      1          24   \n",
       "3          14.0     7.0      0.0                      0          24   \n",
       "4          14.0     7.0      0.0                      0          24   \n",
       "\n",
       "   dewpoint_10  species_CULEX RESTUANS  id  \n",
       "0         64.4                       0   1  \n",
       "1         64.4                       1   2  \n",
       "2         64.4                       0   3  \n",
       "3         64.4                       0   4  \n",
       "4         64.4                       0   5  "
      ]
     },
     "metadata": {},
     "output_type": "display_data"
    },
    {
     "name": "stdout",
     "output_type": "stream",
     "text": [
      "Shape of test set:  (116293, 8)\n"
     ]
    }
   ],
   "source": [
    "# preview dataset\n",
    "display(train.head())\n",
    "print(\"Shape of train set: \", train.shape)\n",
    "display(test.head())\n",
    "print(\"Shape of test set: \", test.shape)"
   ]
  },
  {
   "cell_type": "code",
   "execution_count": 307,
   "metadata": {},
   "outputs": [
    {
     "data": {
      "text/plain": [
       "0         14\n",
       "1         14\n",
       "2         14\n",
       "3         14\n",
       "4         14\n",
       "          ..\n",
       "116288     7\n",
       "116289     7\n",
       "116290     7\n",
       "116291     7\n",
       "116292     7\n",
       "Name: nummosquitos, Length: 116293, dtype: int32"
      ]
     },
     "execution_count": 307,
     "metadata": {},
     "output_type": "execute_result"
    }
   ],
   "source": [
    "# change number of moduitoes as integers\n",
    "test['nummosquitos'].astype(int)"
   ]
  },
  {
   "cell_type": "code",
   "execution_count": 308,
   "metadata": {},
   "outputs": [
    {
     "name": "stdout",
     "output_type": "stream",
     "text": [
      "Index(['wnvpresent'], dtype='object')\n"
     ]
    }
   ],
   "source": [
    "# check difference in columns\n",
    "train_cols = train.columns\n",
    "test_cols = test.columns\n",
    "train_not_test = train_cols.difference(test_cols)\n",
    "print(train_not_test)"
   ]
  },
  {
   "cell_type": "code",
   "execution_count": 309,
   "metadata": {},
   "outputs": [
    {
     "name": "stdout",
     "output_type": "stream",
     "text": [
      "Shape of train set:  (8475, 8)\n",
      "Shape of test set:  (116293, 7)\n"
     ]
    }
   ],
   "source": [
    "#drop test id\n",
    "test.drop(columns = 'id', inplace = True)\n",
    "# view shape\n",
    "print(\"Shape of train set: \", train.shape)\n",
    "print(\"Shape of test set: \", test.shape)"
   ]
  },
  {
   "cell_type": "markdown",
   "metadata": {},
   "source": [
    "### Model preprocessing and preparation\n",
    "As we have an imbalanced classification on the training set, we will apply an oversampling technique called Adaptive Synthetic (ADASYN) to balance the class. With ADASYN, new samples are synthesized from the minority class, as opposed to merely duplicating the minority samples (Bhattacharyya, 2018). This may help reduce overfitting of the model."
   ]
  },
  {
   "cell_type": "code",
   "execution_count": 310,
   "metadata": {},
   "outputs": [],
   "source": [
    "# prep the training set\n",
    "X = train.drop(columns = 'wnvpresent')\n",
    "y = train.wnvpresent"
   ]
  },
  {
   "cell_type": "code",
   "execution_count": 311,
   "metadata": {},
   "outputs": [],
   "source": [
    "# split training set into train set and validation set\n",
    "X_train, X_val, y_train, y_val = train_test_split(X, y)"
   ]
  },
  {
   "cell_type": "code",
   "execution_count": 312,
   "metadata": {},
   "outputs": [
    {
     "name": "stdout",
     "output_type": "stream",
     "text": [
      "Count before ADASYN:  Counter({0: 6011, 1: 345})\n",
      "Count after ADASYN:  Counter({0: 6011, 1: 5982})\n"
     ]
    }
   ],
   "source": [
    "# instantitate and fit, resample\n",
    "counter_before = Counter(y_train)\n",
    "print(\"Count before ADASYN: \", counter_before)\n",
    "ada = ADASYN(sampling_strategy = 'minority')\n",
    "X_train,y_train = ada.fit_resample(X_train,y_train)\n",
    "counter_after = Counter(y_train)\n",
    "print(\"Count after ADASYN: \", counter_after)"
   ]
  },
  {
   "cell_type": "markdown",
   "metadata": {},
   "source": [
    "Classes are now balanced and we now do model preparation!"
   ]
  },
  {
   "cell_type": "markdown",
   "metadata": {},
   "source": [
    "### Model evaluation and selection\n",
    "\n",
    "Here we feed the data into various models and select the best performing model. Following that, we will tune the hyperparameters of the model to further improve the score. \n",
    "\n",
    "In selecting the best performing model, there are several metrics to consider in a binary classification problem such as this, which is to tell us whether a particular testing site will have WNV or not. \n",
    "\n",
    "**Evaluation Strategy** \n",
    "\n",
    "In considering the metrics to evaluate the model, we first look at the types of prediction error we can get (Type 1 error or Type 2 error). \n",
    "\n",
    "<u>Type 1 error</u>\n",
    "\n",
    "This error is the false positive rate (FPR) which is the fraction of false alerts based on model predictions. In relation to the current problem, it would be the model predicting that WNV is present when it actually is not. \n",
    "\n",
    "Let's consider the implications of this. From the government's perspective, should there in fact not be a WNV present and spraying efforts were made, it would be an inefficient use of resources. Also, if say people are made aware that their living area indicated presence of WNV, they may purchase mosquito repellants when they don't actually need to. \n",
    "\n",
    "<u>Type 2 Error</u>\n",
    "\n",
    "This error is the false negative rate (FNR) which is the fraction of missed detection based on model predictions. In other words, it would be the model predicting that WNV is not present when it actually is. \n",
    "\n",
    "This may breed complacency (pun intended) among residents of the area, whereby they don't find the need to buy mosquito repellants or take any precautions. Should there be a resident in the area diagnosed with WNV, coupled with complacency of residents of the area, this may potentially lead to a WNV epidemic. For the government's perspective, healthcare costs would rise due to this.\n",
    "\n",
    "From the above two types of error, Type 2 error is more dire than Type 1 error, from a cost perspective. Due to this, our model should seek to minimize false negatives as much as possible, more so than attempting to reduce false positives. \n",
    "\n",
    "**Scoring Metrics**\n",
    "\n",
    "The balance between false positive rates and false negative rates can be seen in the precision-recall trade-off. \n",
    "\n",
    "Precision evaluates how precise the model is in predicting positive labels (in this case, WNV presence) and is a good evaluation metric to use when the cost of false positive is higher than the cost of a false negative (Erika, 2019). \n",
    "\n",
    "Recall calculates the percentage of actual positives a model correctly identified (ie. true positives) and is a good evaluation metric for when the cost of false negative is higher than that for false positives, which is in our case. \n",
    "\n",
    "While recall is more important than precision in our case, we cannot completely neglect precision due to the unnecessary government spending for false positive cases. So recall is more important than precision but not negligible. To assess recall and precision score, we will use the <u>confusion matrix</u> in evaluating our models.\n",
    "\n",
    "On top of that, we will also assess our model using the <u>ROC-AUC curve</u>. The ROC-AUC curve visualises the trade off between the true-positive rate (TPR) and false-positive rate (FPR) (Czakon, 2019). The better the model, the higher the TPR and the lower the FPR. To evaluate the model in numbers, we find the <u>Area Under Curve (AUC) score</u>. AUC score of 1 means a perfect classification and ideally we want a score closer to 1. This is the scoring metric used in kaggle as well. "
   ]
  },
  {
   "cell_type": "code",
   "execution_count": 313,
   "metadata": {},
   "outputs": [],
   "source": [
    "def scale(X_train, X_val_test):\n",
    "    '''function for standard scaling'''\n",
    "    ss = StandardScaler()\n",
    "    X_train = ss.fit_transform(X_train)\n",
    "    X_val_test = ss.transform(X_val_test)\n",
    "    return X_train, X_val_test"
   ]
  },
  {
   "cell_type": "code",
   "execution_count": 318,
   "metadata": {},
   "outputs": [],
   "source": [
    "def baseline():\n",
    "    '''function that creates baseline models'''\n",
    "    pipeline1 = Pipeline([\n",
    "    ('logreg', LogisticRegression())\n",
    "    ])\n",
    "    pipeline2 = Pipeline([\n",
    "    ('ss', StandardScaler()),\n",
    "    ('knn', KNeighborsClassifier())\n",
    "    ])\n",
    "    pipeline3 = Pipeline([\n",
    "    ('rf', RandomForestClassifier())\n",
    "    ])\n",
    "    pipeline4 = Pipeline([\n",
    "    ('ada', AdaBoostClassifier())\n",
    "    ])\n",
    "    \n",
    "    names = [\"Logistic Regression\", \"K-Nearest Neighbours\", \"Random Forest\", \"Ada Boost\"]\n",
    "    pipes = [pipeline1, pipeline2, pipeline3, pipeline4]\n",
    "    \n",
    "    print(\"Getting baseline models...\")\n",
    "    for i in range(len(names)):\n",
    "        print(f\"Pipeline : {names[i]}\")\n",
    "        gs = GridSearchCV(pipes[i], param_grid = {}, n_jobs = -1, refit = 'recall')\n",
    "        gs.fit(X_train, y_train)\n",
    "        y_pred_train_base = gs.predict(X_train)\n",
    "        y_pred_val_base = gs.predict(X_val)\n",
    "\n",
    "        #scores\n",
    "        acc_train = round(accuracy_score(y_train,y_pred_train_base),3)\n",
    "        f1_train = round(f1_score(y_train,y_pred_train_base),3)\n",
    "        precision_train = round(precision_score(y_train,y_pred_train_base),3)    \n",
    "        recall_train = round(recall_score(y_train,y_pred_train_base),3) \n",
    "        rocauc_train = round(roc_auc_score(y_train,y_pred_train_base),3)\n",
    "        \n",
    "        acc_val = round(accuracy_score(y_val,y_pred_val_base),3)\n",
    "        f1_val = round(f1_score(y_val,y_pred_val_base),3)\n",
    "        precision_val = round(precision_score(y_val,y_pred_val_base),3)    \n",
    "        recall_val = round(recall_score(y_val,y_pred_val_base),3) \n",
    "        rocauc_val = round(roc_auc_score(y_val,y_pred_val_base),3)        \n",
    "               \n",
    "        table1 = PrettyTable(title = f'Results of Baseline for Pipeline {i+1} - {names[i]}', header_style = 'title', max_table_width = 115)\n",
    "        table1.field_names = [\"Dataset\", \"Accuracy score\", \"F1 score\", \"Precision score\", \"Recall score\", \"ROC-AUC score\", \"Confusion_Matrix\"]\n",
    "        table1.add_row([\"Training Set\", acc_train, f1_train, precision_train, recall_train, rocauc_train, confusion_matrix(y_train, y_pred_train_base)])\n",
    "        table1.add_row([\"Validation Set\", acc_val, f1_val, precision_val, recall_val, rocauc_val, confusion_matrix(y_val, y_pred_val_base)])\n",
    "        table1.add_row([\"Extent of Overfit\", round(acc_train-acc_val,3),round(f1_train-f1_val,3), round(precision_train-precision_val,3), round(recall_train-recall_val,3), round(rocauc_train-rocauc_val,3), \" \"])\n",
    "        table1._max_width = {\"Confusion_Matrix\": 25}\n",
    "        print(table1)"
   ]
  },
  {
   "cell_type": "code",
   "execution_count": 319,
   "metadata": {},
   "outputs": [
    {
     "name": "stdout",
     "output_type": "stream",
     "text": [
      "Getting baseline models...\n",
      "Pipeline : Logistic Regression\n",
      "+-------------------------------------------------------------------------------------------------------------------+\n",
      "|                              Results of Baseline for Pipeline 1 - Logistic Regression                             |\n",
      "+-------------------+----------------+----------+-----------------+--------------+---------------+------------------+\n",
      "|      Dataset      | Accuracy Score | F1 Score | Precision Score | Recall Score | Roc-Auc Score | Confusion_Matrix |\n",
      "+-------------------+----------------+----------+-----------------+--------------+---------------+------------------+\n",
      "|    Training Set   |      0.77      |  0.783   |      0.739      |    0.834     |      0.77     |   [[4246 1765]   |\n",
      "|                   |                |          |                 |              |               |   [ 996 4986]]   |\n",
      "|   Validation Set  |      0.69      |  0.202   |      0.117      |    0.741     |     0.714     |   [[1379  628]   |\n",
      "|                   |                |          |                 |              |               |   [  29   83]]   |\n",
      "| Extent of Overfit |      0.08      |  0.581   |      0.622      |    0.093     |     0.056     |                  |\n",
      "+-------------------+----------------+----------+-----------------+--------------+---------------+------------------+\n",
      "Pipeline : K-Nearest Neighbours\n",
      "+-------------------------------------------------------------------------------------------------------------------+\n",
      "|                             Results of Baseline for Pipeline 2 - K-Nearest Neighbours                             |\n",
      "+-------------------+----------------+----------+-----------------+--------------+---------------+------------------+\n",
      "|      Dataset      | Accuracy Score | F1 Score | Precision Score | Recall Score | Roc-Auc Score | Confusion_Matrix |\n",
      "+-------------------+----------------+----------+-----------------+--------------+---------------+------------------+\n",
      "|    Training Set   |     0.948      |  0.948   |      0.943      |    0.953     |     0.948     |   [[5664  347]   |\n",
      "|                   |                |          |                 |              |               |   [ 279 5703]]   |\n",
      "|   Validation Set  |     0.889      |  0.327   |      0.241      |    0.509     |      0.71     |   [[1827  180]   |\n",
      "|                   |                |          |                 |              |               |   [  55   57]]   |\n",
      "| Extent of Overfit |     0.059      |  0.621   |      0.702      |    0.444     |     0.238     |                  |\n",
      "+-------------------+----------------+----------+-----------------+--------------+---------------+------------------+\n",
      "Pipeline : Random Forest\n",
      "+-------------------------------------------------------------------------------------------------------------------+\n",
      "|                                 Results of Baseline for Pipeline 3 - Random Forest                                |\n",
      "+-------------------+----------------+----------+-----------------+--------------+---------------+------------------+\n",
      "|      Dataset      | Accuracy Score | F1 Score | Precision Score | Recall Score | Roc-Auc Score | Confusion_Matrix |\n",
      "+-------------------+----------------+----------+-----------------+--------------+---------------+------------------+\n",
      "|    Training Set   |     0.982      |  0.982   |      0.977      |    0.987     |     0.982     |   [[5875  136]   |\n",
      "|                   |                |          |                 |              |               |   [  80 5902]]   |\n",
      "|   Validation Set  |      0.9       |  0.265   |      0.217      |    0.339     |     0.636     |   [[1870  137]   |\n",
      "|                   |                |          |                 |              |               |   [  74   38]]   |\n",
      "| Extent of Overfit |     0.082      |  0.717   |       0.76      |    0.648     |     0.346     |                  |\n",
      "+-------------------+----------------+----------+-----------------+--------------+---------------+------------------+\n",
      "Pipeline : Ada Boost\n",
      "+-------------------------------------------------------------------------------------------------------------------+\n",
      "|                                   Results of Baseline for Pipeline 4 - Ada Boost                                  |\n",
      "+-------------------+----------------+----------+-----------------+--------------+---------------+------------------+\n",
      "|      Dataset      | Accuracy Score | F1 Score | Precision Score | Recall Score | Roc-Auc Score | Confusion_Matrix |\n",
      "+-------------------+----------------+----------+-----------------+--------------+---------------+------------------+\n",
      "|    Training Set   |     0.852      |  0.854   |      0.839      |     0.87     |     0.852     |   [[5010 1001]   |\n",
      "|                   |                |          |                 |              |               |   [ 779 5203]]   |\n",
      "|   Validation Set  |     0.816      |  0.291   |      0.183      |    0.714     |     0.768     |   [[1650  357]   |\n",
      "|                   |                |          |                 |              |               |   [  32   80]]   |\n",
      "| Extent of Overfit |     0.036      |  0.563   |      0.656      |    0.156     |     0.084     |                  |\n",
      "+-------------------+----------------+----------+-----------------+--------------+---------------+------------------+\n",
      "Wall time: 6.91 s\n"
     ]
    }
   ],
   "source": [
    "%%time\n",
    "baseline()"
   ]
  },
  {
   "cell_type": "code",
   "execution_count": 334,
   "metadata": {},
   "outputs": [],
   "source": [
    "def grid_search():\n",
    "    '''function that finds the best hyperparameters for each model'''\n",
    "    pipeline1 = Pipeline([\n",
    "    ('logreg', LogisticRegression())\n",
    "    ])\n",
    "    pipeline2 = Pipeline([\n",
    "    ('ss', StandardScaler()),\n",
    "    ('knn', KNeighborsClassifier())\n",
    "    ])\n",
    "    pipeline3 = Pipeline([\n",
    "    ('rf', RandomForestClassifier())\n",
    "    ])\n",
    "    pipeline4 = Pipeline([\n",
    "    ('ada', AdaBoostClassifier())\n",
    "    ])\n",
    "    \n",
    "    params1 = {\n",
    "        'logreg__solver': ['newton-cg', 'lbfgs', 'liblinear'],\n",
    "        'logreg__penalty': ['l2'],\n",
    "        'logreg__C': [10, 1.0, 0.1, 0.01]\n",
    "    }\n",
    "    params2 = {\n",
    "        'knn__n_neighbors': [1, 10, 50],\n",
    "        'knn__leaf_size': [1, 20, 40]\n",
    "    }\n",
    "    params3 = {\n",
    "        'rf__n_estimators':[10, 20, 30, 50, 100, 500],\n",
    "        'rf__max_depth':[None, 1, 3],\n",
    "        'rf__max_features': ['auto', 'sqrt'],\n",
    "        'rf__criterion': ['gini', 'entropy'],\n",
    "        'rf__min_samples_split': [5,10,20],\n",
    "        'rf__min_samples_leaf': [5,10,20]\n",
    "    }\n",
    "    params4 = {\n",
    "        'ada__n_estimators':[700, 900, 1100, 1500, 2000],\n",
    "        'ada__learning_rate': [0.01, 0.3, 0.6]\n",
    "    }\n",
    "    \n",
    "    names = [\"Logistic Regression\", \"K-Nearest Neighbours\", \"Random Forest\", \"Ada Boost\"]\n",
    "    params = [params1, params2, params3, params4]\n",
    "    pipes = [pipeline1, pipeline2, pipeline3, pipeline4]  \n",
    "    \n",
    "    print(\"GridSearch starting...\")\n",
    "    best_params = []\n",
    "    for j in range(len(params)):\n",
    "        print(f\"Pipeline : {names[j]}\")\n",
    "        gs = GridSearchCV(pipes[j], params[j], n_jobs = -1, refit = 'recall')\n",
    "        gs.fit(X_train, y_train)\n",
    "        y_pred_train = gs.best_estimator_.predict(X_train)\n",
    "        y_pred_val = gs.best_estimator_.predict(X_val)\n",
    "        best_params.append(gs.best_params_)\n",
    "        \n",
    "        #scores\n",
    "        acc_train = round(accuracy_score(y_train,y_pred_train),3)\n",
    "        f1_train = round(f1_score(y_train,y_pred_train),3)\n",
    "        precision_train = round(precision_score(y_train,y_pred_train),3)    \n",
    "        recall_train = round(recall_score(y_train,y_pred_train),3) \n",
    "        rocauc_train = round(roc_auc_score(y_train,y_pred_train),3)\n",
    "        \n",
    "        acc_val = round(accuracy_score(y_val,y_pred_val),3)\n",
    "        f1_val = round(f1_score(y_val,y_pred_val),3)\n",
    "        precision_val = round(precision_score(y_val,y_pred_val),3)    \n",
    "        recall_val = round(recall_score(y_val,y_pred_val),3) \n",
    "        rocauc_val = round(roc_auc_score(y_val,y_pred_val),3)        \n",
    "               \n",
    "        table3 = PrettyTable(title = f'Results of Pipeline {j+1} - {names[j]}', header_style = 'title', max_table_width = 115)\n",
    "        table3.field_names = [\"Dataset\", \"Accuracy score\", \"F1 score\", \"Precision score\", \"Recall score\", \"ROC-AUC score\", \"Confusion_Matrix\"]\n",
    "        table3.add_row([\"Training Set\", acc_train, f1_train, precision_train, recall_train, rocauc_train, confusion_matrix(y_train, y_pred_train)])\n",
    "        table3.add_row([\"Validation Set\", acc_val, f1_val, precision_val, recall_val, rocauc_val, confusion_matrix(y_val, y_pred_val)])\n",
    "        table3.add_row([\"Extent of Overfit\", round(acc_train-acc_val,3),round(f1_train-f1_val,3), round(precision_train-precision_val,3), round(recall_train-recall_val,3), round(rocauc_train-rocauc_val,3), \" \"])\n",
    "        table3._max_width = {\"Confusion_Matrix\": 25}\n",
    "        print(table3)\n",
    "                 \n",
    "    table2 = PrettyTable(title = \"Best Parameters\", header_style = 'title', max_table_width = 115)\n",
    "    table2.field_names = [\"Classifier\", \"Params\"]\n",
    "    table2.add_row([names[0], best_params[0]])\n",
    "    table2.add_row([names[1], best_params[1]])\n",
    "    table2.add_row([names[2], best_params[2]])    \n",
    "    table2.add_row([names[3], best_params[3]])    \n",
    "    print(table2)"
   ]
  },
  {
   "cell_type": "code",
   "execution_count": 335,
   "metadata": {},
   "outputs": [
    {
     "name": "stdout",
     "output_type": "stream",
     "text": [
      "GridSearch starting...\n",
      "Pipeline : Logistic Regression\n",
      "+-------------------------------------------------------------------------------------------------------------------+\n",
      "|                                    Results of Pipeline 1 - Logistic Regression                                    |\n",
      "+-------------------+----------------+----------+-----------------+--------------+---------------+------------------+\n",
      "|      Dataset      | Accuracy Score | F1 Score | Precision Score | Recall Score | Roc-Auc Score | Confusion_Matrix |\n",
      "+-------------------+----------------+----------+-----------------+--------------+---------------+------------------+\n",
      "|    Training Set   |     0.768      |   0.78   |      0.741      |    0.823     |     0.769     |   [[4293 1718]   |\n",
      "|                   |                |          |                 |              |               |   [1059 4923]]   |\n",
      "|   Validation Set  |     0.701      |  0.211   |      0.123      |    0.759     |     0.728     |   [[1400  607]   |\n",
      "|                   |                |          |                 |              |               |   [  27   85]]   |\n",
      "| Extent of Overfit |     0.067      |  0.569   |      0.618      |    0.064     |     0.041     |                  |\n",
      "+-------------------+----------------+----------+-----------------+--------------+---------------+------------------+\n",
      "Pipeline : K-Nearest Neighbours\n",
      "+-------------------------------------------------------------------------------------------------------------------+\n",
      "|                                    Results of Pipeline 2 - K-Nearest Neighbours                                   |\n",
      "+-------------------+----------------+----------+-----------------+--------------+---------------+------------------+\n",
      "|      Dataset      | Accuracy Score | F1 Score | Precision Score | Recall Score | Roc-Auc Score | Confusion_Matrix |\n",
      "+-------------------+----------------+----------+-----------------+--------------+---------------+------------------+\n",
      "|    Training Set   |     0.972      |  0.972   |      0.982      |    0.962     |     0.972     |   [[5905  106]   |\n",
      "|                   |                |          |                 |              |               |   [ 227 5755]]   |\n",
      "|   Validation Set  |      0.9       |  0.299   |      0.238      |    0.402     |     0.665     |   [[1863  144]   |\n",
      "|                   |                |          |                 |              |               |   [  67   45]]   |\n",
      "| Extent of Overfit |     0.072      |  0.673   |      0.744      |     0.56     |     0.307     |                  |\n",
      "+-------------------+----------------+----------+-----------------+--------------+---------------+------------------+\n",
      "Pipeline : Random Forest\n",
      "+-------------------------------------------------------------------------------------------------------------------+\n",
      "|                                       Results of Pipeline 3 - Random Forest                                       |\n",
      "+-------------------+----------------+----------+-----------------+--------------+---------------+------------------+\n",
      "|      Dataset      | Accuracy Score | F1 Score | Precision Score | Recall Score | Roc-Auc Score | Confusion_Matrix |\n",
      "+-------------------+----------------+----------+-----------------+--------------+---------------+------------------+\n",
      "|    Training Set   |     0.955      |  0.956   |      0.938      |    0.974     |     0.955     |   [[5629  382]   |\n",
      "|                   |                |          |                 |              |               |   [ 157 5825]]   |\n",
      "|   Validation Set  |     0.883      |  0.337   |       0.24      |    0.562     |     0.732     |   [[1808  199]   |\n",
      "|                   |                |          |                 |              |               |   [  49   63]]   |\n",
      "| Extent of Overfit |     0.072      |  0.619   |      0.698      |    0.412     |     0.223     |                  |\n",
      "+-------------------+----------------+----------+-----------------+--------------+---------------+------------------+\n",
      "Pipeline : Ada Boost\n",
      "+-------------------------------------------------------------------------------------------------------------------+\n",
      "|                                         Results of Pipeline 4 - Ada Boost                                         |\n",
      "+-------------------+----------------+----------+-----------------+--------------+---------------+------------------+\n",
      "|      Dataset      | Accuracy Score | F1 Score | Precision Score | Recall Score | Roc-Auc Score | Confusion_Matrix |\n",
      "+-------------------+----------------+----------+-----------------+--------------+---------------+------------------+\n",
      "|    Training Set   |     0.901      |  0.902   |       0.89      |    0.913     |     0.901     |   [[5336  675]   |\n",
      "|                   |                |          |                 |              |               |   [ 518 5464]]   |\n",
      "|   Validation Set  |     0.857      |   0.3    |      0.202      |     0.58     |     0.726     |   [[1751  256]   |\n",
      "|                   |                |          |                 |              |               |   [  47   65]]   |\n",
      "| Extent of Overfit |     0.044      |  0.602   |      0.688      |    0.333     |     0.175     |                  |\n",
      "+-------------------+----------------+----------+-----------------+--------------+---------------+------------------+\n",
      "+-------------------------------------------------------------------------------------------------------------------+\n",
      "|                                                  Best Parameters                                                  |\n",
      "+--------------+----------------------------------------------------------------------------------------------------+\n",
      "|  Classifier  |                                               Params                                               |\n",
      "+--------------+----------------------------------------------------------------------------------------------------+\n",
      "|   Logistic   |               {'logreg__C': 10, 'logreg__penalty': 'l2', 'logreg__solver': 'lbfgs'}                |\n",
      "|  Regression  |                                                                                                    |\n",
      "|  K-Nearest   |                            {'knn__leaf_size': 1, 'knn__n_neighbors': 1}                            |\n",
      "|  Neighbours  |                                                                                                    |\n",
      "|    Random    |          {'rf__criterion': 'entropy', 'rf__max_depth': None, 'rf__max_features': 'sqrt',           |\n",
      "|    Forest    |          'rf__min_samples_leaf': 5, 'rf__min_samples_split': 10, 'rf__n_estimators': 30}           |\n",
      "|  Ada Boost   |                       {'ada__learning_rate': 0.6, 'ada__n_estimators': 2000}                       |\n",
      "+--------------+----------------------------------------------------------------------------------------------------+\n",
      "Wall time: 3min 14s\n"
     ]
    }
   ],
   "source": [
    "%%time\n",
    "grid_search()"
   ]
  },
  {
   "cell_type": "markdown",
   "metadata": {},
   "source": [
    "There seems to be overfitting across all models. Looking at the roc_auc score and the recall score, the best model is the `Ada Boost`. We will proceed to further tune the model below to get a better recall and roc_auc score. "
   ]
  },
  {
   "cell_type": "markdown",
   "metadata": {},
   "source": [
    "#### Ada Boost Classifier\n",
    "Here we tune the hyperparameters of `AdaBoost` so we can get a better `roc-auc` score. "
   ]
  },
  {
   "cell_type": "code",
   "execution_count": 336,
   "metadata": {},
   "outputs": [],
   "source": [
    "#results on train/val set \n",
    "def results_trainval(X_train,y_train,X_val,model,name):\n",
    "    '''function outputs predictions on val set for training set run on model'''\n",
    "    model.fit(X_train,y_train)\n",
    "    preds_4 = model.predict(X_train)\n",
    "    preds_5 = model.predict(X_val)\n",
    "    \n",
    "    #scores\n",
    "    acc_train = round(accuracy_score(y_train,preds_4),3)\n",
    "    f1_train = round(f1_score(y_train,preds_4),3)\n",
    "    precision_train = round(precision_score(y_train,preds_4),3)    \n",
    "    recall_train = round(recall_score(y_train,preds_4),3) \n",
    "    rocauc_train = round(roc_auc_score(y_train,preds_4),3)\n",
    "\n",
    "    acc_val = round(accuracy_score(y_val,preds_5),3)\n",
    "    f1_val = round(f1_score(y_val,preds_5),3)\n",
    "    precision_val = round(precision_score(y_val,preds_5),3)    \n",
    "    recall_val = round(recall_score(y_val,preds_5),3) \n",
    "    rocauc_val = round(roc_auc_score(y_val,preds_5),3)      \n",
    "    \n",
    "    table = PrettyTable(title = f'Results of {name} on Train and Validation Set', header_style = 'title', max_table_width = 115)\n",
    "    table.field_names = [\" \", \"Accuracy Score\", \"F1 score\", \"Precision score\", \"Recall score\", \"ROC-AUC score\", \"Confusion_Matrix\"]\n",
    "    table.add_row([\"Training Set\", acc_train, f1_train, precision_train, recall_train, rocauc_train, confusion_matrix(y_train, preds_4)])\n",
    "    table.add_row([\"Validation Set\", acc_val, f1_val, precision_val, recall_val, rocauc_val, confusion_matrix(y_val, preds_5)])\n",
    "    table.add_row([\"Extent of Overfit\", round(acc_train-acc_val,3),round(f1_train-f1_val,3), round(precision_train-precision_val,3), round(recall_train-recall_val,3), round(rocauc_train-rocauc_val,3), \" \"])\n",
    "    table._max_width = {\"Confusion_Matrix\": 25}\n",
    "    print(table)\n",
    "\n",
    "    return preds_5"
   ]
  },
  {
   "cell_type": "code",
   "execution_count": 337,
   "metadata": {},
   "outputs": [],
   "source": [
    "#results on full training set \n",
    "def results(X,y,test,model,name):\n",
    "    '''function outputs predictions on test set for full training set run on model'''\n",
    "    model.fit(X,y)\n",
    "    preds_4 = model.predict(X)\n",
    "    preds_5 = model.predict(test)\n",
    "    \n",
    "    table = PrettyTable(title = f'Results of {name} on Full Training Set', header_style = 'title', max_table_width = 115)\n",
    "    table.field_names = [\" \", \"Accuracy Score\", \"F1 score\", \"Precision score\", \"Recall score\", \"ROC-AUC score\", \"Confusion_Matrix\"]\n",
    "    table.add_row([\"Full Training Set\", round(accuracy_score(y,preds_4),3), round(f1_score(y,preds_4),3), round(precision_score(y,preds_4),3), round(recall_score(y,preds_4),3), round(roc_auc_score(y,preds_4),3),confusion_matrix(y,preds_4)])\n",
    "    print(table)\n",
    "\n",
    "    return preds_5"
   ]
  },
  {
   "cell_type": "code",
   "execution_count": 363,
   "metadata": {},
   "outputs": [],
   "source": [
    "ada = AdaBoostClassifier()\n",
    "params4 = {\n",
    "    'n_estimators':[700, 900, 1100, 1500],\n",
    "    'learning_rate': [0.001, 0.01, 0.3, 0.6]\n",
    "}"
   ]
  },
  {
   "cell_type": "code",
   "execution_count": 371,
   "metadata": {},
   "outputs": [
    {
     "name": "stdout",
     "output_type": "stream",
     "text": [
      "+-------------------------------------------------------------------------------------------------------------------+\n",
      "|                                  Results of Ada Boost on Train and Validation Set                                 |\n",
      "+-------------------+----------------+----------+-----------------+--------------+---------------+------------------+\n",
      "|                   | Accuracy Score | F1 Score | Precision Score | Recall Score | Roc-Auc Score | Confusion_Matrix |\n",
      "+-------------------+----------------+----------+-----------------+--------------+---------------+------------------+\n",
      "|    Training Set   |      0.91      |  0.911   |      0.901      |     0.92     |      0.91     |   [[5405  606]   |\n",
      "|                   |                |          |                 |              |               |   [ 476 5506]]   |\n",
      "|   Validation Set  |     0.869      |  0.312   |      0.216      |    0.562     |     0.724     |   [[1778  229]   |\n",
      "|                   |                |          |                 |              |               |   [  49   63]]   |\n",
      "| Extent of Overfit |     0.041      |  0.599   |      0.685      |    0.358     |     0.186     |                  |\n",
      "+-------------------+----------------+----------+-----------------+--------------+---------------+------------------+\n",
      "Best Parameters : {'learning_rate': 1.0, 'n_estimators': 1500}\n"
     ]
    }
   ],
   "source": [
    "gs_ada = GridSearchCV(ada, params4, n_jobs = -1, cv = 5, refit = 'roc_auc')\n",
    "preds_6 = results_trainval(X_train,y_train,X_val,gs_ada, \"Ada Boost\")\n",
    "print(\"Best Parameters :\", gs_ada.best_params_)"
   ]
  },
  {
   "cell_type": "markdown",
   "metadata": {},
   "source": [
    "See how it generalises across the full training set. "
   ]
  },
  {
   "cell_type": "code",
   "execution_count": 369,
   "metadata": {
    "scrolled": true
   },
   "outputs": [
    {
     "name": "stdout",
     "output_type": "stream",
     "text": [
      "+-------------------------------------------------------------------------------------------------------------------+\n",
      "|                                     Results of Ada Boost on Full Training Set                                     |\n",
      "+-------------------+----------------+----------+-----------------+--------------+---------------+------------------+\n",
      "|                   | Accuracy Score | F1 Score | Precision Score | Recall Score | Roc-Auc Score | Confusion_Matrix |\n",
      "+-------------------+----------------+----------+-----------------+--------------+---------------+------------------+\n",
      "| Full Training Set |     0.951      |  0.329   |      0.643      |    0.221     |     0.607     |   [[7962   56]   |\n",
      "|                   |                |          |                 |              |               |   [ 356  101]]   |\n",
      "+-------------------+----------------+----------+-----------------+--------------+---------------+------------------+\n",
      "Wall time: 23.4 s\n"
     ]
    }
   ],
   "source": [
    "%%time\n",
    "params4 = {\n",
    "    'n_estimators':[1500],\n",
    "    'learning_rate': [1.0]\n",
    "}\n",
    "gs_ada = GridSearchCV(ada, params4, n_jobs = -1, cv = 5, refit = 'roc_auc')\n",
    "preds_6 = results(X,y,test,gs_ada, \"Ada Boost\")"
   ]
  },
  {
   "cell_type": "markdown",
   "metadata": {},
   "source": [
    "It appears that the model is an overfit, although with tuning."
   ]
  },
  {
   "cell_type": "code",
   "execution_count": 370,
   "metadata": {},
   "outputs": [
    {
     "data": {
      "image/png": "[encoded data removed]",
      "text/plain": [
       "<Figure size 432x288 with 1 Axes>"
      ]
     },
     "metadata": {},
     "output_type": "display_data"
    }
   ],
   "source": [
    "# calculate the fpr and tpr for all thresholds of the classification\n",
    "probs = gs_ada.predict_proba(X)\n",
    "preds = probs[:,1]\n",
    "fpr, tpr, thresholds = roc_curve(y, preds)\n",
    "roc_auc = auc(fpr, tpr)\n",
    "\n",
    "plt.title('Receiver Operating Characteristic')\n",
    "plt.plot(fpr, tpr, 'b', label = 'AUC = %0.4f' % roc_auc)\n",
    "plt.legend(loc = 'lower right')\n",
    "plt.plot([0, 1], [0, 1],'r--')\n",
    "plt.xlim([-0.10, 1.1])\n",
    "plt.ylim([-0.10, 1.1])\n",
    "plt.ylabel('True Positive Rate')\n",
    "plt.xlabel('False Positive Rate')\n",
    "plt.show();"
   ]
  },
  {
   "cell_type": "code",
   "execution_count": 118,
   "metadata": {},
   "outputs": [],
   "source": [
    "# # kaggle submission file\n",
    "# test_proc = pd.read_csv(\"../data/clean/test_processed.csv\")\n",
    "# submission = pd.DataFrame({\"id\": test_proc.id.values})\n",
    "# submission[\"WnvPresent\"] = preds_6\n",
    "# submission.to_csv(\"../kaggle-submissions/kaggle_submission_12.csv\", index=False)"
   ]
  },
  {
   "cell_type": "markdown",
   "metadata": {},
   "source": [
    "### Super Learner\n",
    "We have run through grid searching for the best hyperparameters above. We also consider using a super learner. The super learner is an ensemble machine learning algorithm that combines all of the models and model configurations that we have investigated and uses them to make a prediction as-good-as or better than any single model that you may have investigated (Brownlee, 2020)."
   ]
  },
  {
   "cell_type": "code",
   "execution_count": 239,
   "metadata": {},
   "outputs": [],
   "source": [
    "# instantiate models \n",
    "logreg = LogisticRegression()\n",
    "knn = KNeighborsClassifier()\n",
    "rf = RandomForestClassifier()\n",
    "ada = AdaBoostClassifier()"
   ]
  },
  {
   "cell_type": "code",
   "execution_count": 240,
   "metadata": {},
   "outputs": [],
   "source": [
    "# build ensemble model\n",
    "def build_ensemble(incl_meta, proba, propagate_features=[0,1]):\n",
    "    '''function returns an ensemble'''\n",
    "    if propagate_features:\n",
    "        n = len(propagate_features)\n",
    "        propagate_features_1 = propagate_features\n",
    "        propagate_features_2 = [i for i in range(n)]\n",
    "    else:\n",
    "        propagate_features_1 = propagate_features_2 = None\n",
    "        \n",
    "    estimators_layer1 = [logreg]\n",
    "    estimators_layer2 = [knn]\n",
    "    estimators_layer3 = [rf]\n",
    "    estimators_layer4 = [ada]\n",
    "    \n",
    "    ensemble = SuperLearner()\n",
    "    ensemble.add(estimators_layer1, proba = proba, propagate_features = propagate_features)\n",
    "    ensemble.add(estimators_layer2, proba = proba, propagate_features = propagate_features)\n",
    "    ensemble.add(estimators_layer3, proba = proba, propagate_features = propagate_features)\n",
    "    ensemble.add(estimators_layer4, proba = proba, propagate_features = propagate_features)\n",
    "    \n",
    "    if incl_meta:\n",
    "        ensemble.add_meta(logreg)\n",
    "        \n",
    "        return ensemble"
   ]
  },
  {
   "cell_type": "code",
   "execution_count": 241,
   "metadata": {},
   "outputs": [],
   "source": [
    "# function that runs and evaluate ensembled model\n",
    "def run_model(X_train, y_train, X_val, y_val, model):\n",
    "    model.fit(X_train, y_train)\n",
    "    preds_0 = model.predict(X_train)\n",
    "    preds_1 = model.predict(X_val)    \n",
    "\n",
    "        #scores\n",
    "    acc_train = round(accuracy_score(y_train,preds_0),3)\n",
    "    f1_train = round(f1_score(y_train,preds_0),3)\n",
    "    precision_train = round(precision_score(y_train,preds_0),3)    \n",
    "    recall_train = round(recall_score(y_train,preds_0),3) \n",
    "    rocauc_train = round(roc_auc_score(y_train,preds_0),3)\n",
    "\n",
    "    acc_val = round(accuracy_score(y_val,preds_1),3)\n",
    "    f1_val = round(f1_score(y_val,preds_1),3)\n",
    "    precision_val = round(precision_score(y_val,preds_1),3)    \n",
    "    recall_val = round(recall_score(y_val,preds_1),3) \n",
    "    rocauc_val = round(roc_auc_score(y_val,preds_1),3)    \n",
    "\n",
    "    table = PrettyTable(title = 'Results of Ensemble on Train and Validation Set', header_style = 'title', max_table_width = 115)\n",
    "    table.field_names = [\" \", \"Accuracy Score\", \"F1 score\", \"Precision score\", \"Recall score\", \"ROC-AUC score\", \"Confusion_Matrix\"]\n",
    "    table.add_row([\"Training Set\", acc_train, f1_train, precision_train, recall_train, rocauc_train, confusion_matrix(y_train,preds_0)])\n",
    "    table.add_row([\"Validation Set\", acc_val, f1_val, precision_val, recall_val, rocauc_val, confusion_matrix(y_val,preds_1)])\n",
    "    table.add_row([\"Extent of Overfit\", round(acc_train-acc_val,3),round(f1_train-f1_val,3), round(precision_train-precision_val,3), round(recall_train-recall_val,3), round(rocauc_train-rocauc_val,3), \" \"])\n",
    "    table._max_width = {\"Confusion_Matrix\": 25}\n",
    "    print(table)\n",
    "    \n",
    "    return preds_1"
   ]
  },
  {
   "cell_type": "code",
   "execution_count": 242,
   "metadata": {},
   "outputs": [
    {
     "name": "stdout",
     "output_type": "stream",
     "text": [
      "+-------------------------------------------------------------------------------------------------------------------+\n",
      "|                                  Results of Ensemble on Train and Validation Set                                  |\n",
      "+-------------------+----------------+----------+-----------------+--------------+---------------+------------------+\n",
      "|                   | Accuracy Score | F1 Score | Precision Score | Recall Score | Roc-Auc Score | Confusion_Matrix |\n",
      "+-------------------+----------------+----------+-----------------+--------------+---------------+------------------+\n",
      "|    Training Set   |     0.643      |  0.569   |      0.721      |    0.469     |     0.644     |   [[4916 1095]   |\n",
      "|                   |                |          |                 |              |               |   [3198 2829]]   |\n",
      "|   Validation Set  |     0.791      |   0.21   |      0.131      |    0.527     |     0.666     |   [[1617  390]   |\n",
      "|                   |                |          |                 |              |               |   [  53   59]]   |\n",
      "| Extent of Overfit |     -0.148     |  0.359   |       0.59      |    -0.058    |     -0.022    |                  |\n",
      "+-------------------+----------------+----------+-----------------+--------------+---------------+------------------+\n"
     ]
    }
   ],
   "source": [
    "# run the model\n",
    "X_train, X_val = scale(X_train, X_val) #scale\n",
    "model = build_ensemble(True, True)\n",
    "preds_1 = run_model(X_train, y_train, X_val, y_val, model)"
   ]
  },
  {
   "cell_type": "code",
   "execution_count": 244,
   "metadata": {},
   "outputs": [],
   "source": [
    "# run on full training set\n",
    "def run_model_test(X,y,test,model):\n",
    "    model.fit(X,y)\n",
    "    preds_3 = model.predict(test)\n",
    "    preds_2 = model.predict(X)\n",
    "    \n",
    "    table = PrettyTable(title = 'Results of Ensemble on Full Training Set', header_style = 'title', max_table_width = 115)\n",
    "    table.field_names = [\" \", \"Accuracy score\", \"F1 score\", \"Precision score\", \"Recall score\", \"ROC-AUC score\", \"Confusion_Matrix\"]\n",
    "    table.add_row([\"Full Training Set\", round(accuracy_score(y,preds_2),3), round(f1_score(y,preds_2),3), round(precision_score(y,preds_2),3), round(recall_score(y,preds_2),3), round(roc_auc_score(y,preds_2),3),confusion_matrix(y,preds_2)])\n",
    "    print(table)\n",
    "\n",
    "    return preds_3"
   ]
  },
  {
   "cell_type": "code",
   "execution_count": 245,
   "metadata": {},
   "outputs": [
    {
     "name": "stdout",
     "output_type": "stream",
     "text": [
      "+-------------------------------------------------------------------------------------------------------------------+\n",
      "|                                      Results of Ensemble on Full Training Set                                     |\n",
      "+-------------------+----------------+----------+-----------------+--------------+---------------+------------------+\n",
      "|                   | Accuracy Score | F1 Score | Precision Score | Recall Score | Roc-Auc Score | Confusion_Matrix |\n",
      "+-------------------+----------------+----------+-----------------+--------------+---------------+------------------+\n",
      "| Full Training Set |     0.947      |  0.093   |      0.622      |     0.05     |     0.524     |   [[8004   14]   |\n",
      "|                   |                |          |                 |              |               |   [ 434   23]]   |\n",
      "+-------------------+----------------+----------+-----------------+--------------+---------------+------------------+\n"
     ]
    }
   ],
   "source": [
    "# run model on full training set\n",
    "X, test = scale(X, test)\n",
    "model = build_ensemble(True, True)\n",
    "preds_3 = run_model_test(X,y,test,model)"
   ]
  },
  {
   "cell_type": "markdown",
   "metadata": {},
   "source": [
    "There is a chance that the superlearner is overfitted as the best hyperparameters of the models in this ensemble are being used, resulting in a less than optimal performance, when applied on the validation set. "
   ]
  },
  {
   "cell_type": "code",
   "execution_count": 125,
   "metadata": {},
   "outputs": [],
   "source": [
    "# Create_submission file\n",
    "# test_proc = pd.read_csv(\"../data/clean/test_processed.csv\")\n",
    "# submission = pd.DataFrame({\"id\": test_proc.id.values})\n",
    "# submission[\"WnvPresent\"] = preds_3\n",
    "# submission.to_csv(\"../kaggle-submissions/kaggle_submission_15.csv\", index=False)"
   ]
  },
  {
   "cell_type": "markdown",
   "metadata": {},
   "source": [
    "Seems like the ensemble method did not do any better than `AdaBoost` so we will move forward with `Adaboost`."
   ]
  },
  {
   "cell_type": "markdown",
   "metadata": {},
   "source": [
    "### Interpret results\n",
    "Our selected production model is `AdaBoost` classifier as it was able to generalise well."
   ]
  },
  {
   "cell_type": "markdown",
   "metadata": {},
   "source": [
    "![](../images/ada.JPG)"
   ]
  },
  {
   "cell_type": "markdown",
   "metadata": {},
   "source": [
    "Based on this model, we note the following based on the scores: \n",
    "\n",
    "<u>Precision (TP/(TP+FP))</u>\n",
    "\n",
    "Our model can predict WNV presence correctly 90.1% of the time, where  9.9% of positive predictions are false positives (ie. predicting that WNV is present when it actually is not). While we want to minimize false positives due to the costs incurred for spraying efforts, we want to prioritise minimising false negatives, which can be seen in the recall. \n",
    "\n",
    "\n",
    "<u>Recall (TP/(TP+FN)) or True Positive Rate (TPR)</u>\n",
    "\n",
    "\n",
    "Our model is able to predict actual positives 92% of the time, where the 8% of predictions are false negatives (ie. predicting that WNV is not present when it actually is). Our model did well in minimizing false negatives more than false positives. \n",
    "\n",
    "<u>ROC-AUC score</u>\n",
    "\n",
    "The trade-off betwen the true-positive rate and the false-positive rate (ie. probability of false alarm) is visualised in the ROC-AUC curve below, which shows that 91% of the time, the model is able to classify correctly the presence of WNVV or not. "
   ]
  },
  {
   "cell_type": "markdown",
   "metadata": {},
   "source": [
    "### References\n",
    "\n",
    "\"SMOTE and ADASYN ( Handling Imbalanced Data Set )\" (Bhattacharyya, 2018)\n",
    "https://medium.com/coinmonks/smote-and-adasyn-handling-imbalanced-data-set-34f5223e167\n",
    "\n",
    "\"How to Develop Super Learner Ensembles in Python\" (Brownlee, 2020)\n",
    "https://machinelearningmastery.com/super-learner-ensemble-in-python/"
   ]
  }
 ],
 "metadata": {
  "kernelspec": {
   "display_name": "Python 3",
   "language": "python",
   "name": "python3"
  },
  "language_info": {
   "codemirror_mode": {
    "name": "ipython",
    "version": 3
   },
   "file_extension": ".py",
   "mimetype": "text/x-python",
   "name": "python",
   "nbconvert_exporter": "python",
   "pygments_lexer": "ipython3",
   "version": "3.8.5"
  }
 },
 "nbformat": 4,
 "nbformat_minor": 4
}
